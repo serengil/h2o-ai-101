{
 "cells": [
  {
   "cell_type": "code",
   "execution_count": 1,
   "metadata": {},
   "outputs": [
    {
     "name": "stderr",
     "output_type": "stream",
     "text": [
      "/opt/rh/rh-python36/root/usr/lib64/python3.6/importlib/_bootstrap.py:219: RuntimeWarning: numpy.dtype size changed, may indicate binary incompatibility. Expected 96, got 88\n",
      "  return f(*args, **kwds)\n",
      "/opt/rh/rh-python36/root/usr/lib64/python3.6/importlib/_bootstrap.py:219: RuntimeWarning: numpy.dtype size changed, may indicate binary incompatibility. Expected 96, got 88\n",
      "  return f(*args, **kwds)\n"
     ]
    }
   ],
   "source": [
    "import numpy as np\n",
    "import pandas as pd\n",
    "import datetime\n",
    "import time\n",
    "from sklearn.model_selection import train_test_split\n",
    "from tqdm import tqdm\n",
    "import h2o\n",
    "from h2o.targetencoder import TargetEncoder\n",
    "\n",
    "import os\n",
    "os.environ[\"CUDA_VISIBLE_DEVICES\"]=\"7\""
   ]
  },
  {
   "cell_type": "code",
   "execution_count": 2,
   "metadata": {},
   "outputs": [],
   "source": [
    "notebook_tic = time.time()"
   ]
  },
  {
   "cell_type": "code",
   "execution_count": 3,
   "metadata": {},
   "outputs": [
    {
     "name": "stdout",
     "output_type": "stream",
     "text": [
      "Checking whether there is an H2O instance running at http://127.0.0.1:54321 ..... not found.\n",
      "Attempting to start a local H2O server...\n",
      "  Java Version: openjdk version \"1.8.0_212\"; OpenJDK Runtime Environment (build 1.8.0_212-b04); OpenJDK 64-Bit Server VM (build 25.212-b04, mixed mode)\n",
      "  Starting server from /workspaces/sefik/.local/lib/python3.6/site-packages/h2o/backend/bin/h2o.jar\n",
      "  Ice root: /tmp/tmpkijdv61h\n",
      "  JVM stdout: /tmp/tmpkijdv61h/h2o_sefik_started_from_python.out\n",
      "  JVM stderr: /tmp/tmpkijdv61h/h2o_sefik_started_from_python.err\n",
      "  Server is running at http://127.0.0.1:54321\n",
      "Connecting to H2O server at http://127.0.0.1:54321 ... successful.\n"
     ]
    },
    {
     "data": {
      "text/html": [
       "<div style=\"overflow:auto\"><table style=\"width:50%\"><tr><td>H2O cluster uptime:</td>\n",
       "<td>01 secs</td></tr>\n",
       "<tr><td>H2O cluster timezone:</td>\n",
       "<td>Europe/Istanbul</td></tr>\n",
       "<tr><td>H2O data parsing timezone:</td>\n",
       "<td>UTC</td></tr>\n",
       "<tr><td>H2O cluster version:</td>\n",
       "<td>3.26.0.3</td></tr>\n",
       "<tr><td>H2O cluster version age:</td>\n",
       "<td>2 months and 14 days </td></tr>\n",
       "<tr><td>H2O cluster name:</td>\n",
       "<td>H2O_from_python_sefik_zp5cag</td></tr>\n",
       "<tr><td>H2O cluster total nodes:</td>\n",
       "<td>1</td></tr>\n",
       "<tr><td>H2O cluster free memory:</td>\n",
       "<td>177.8 Gb</td></tr>\n",
       "<tr><td>H2O cluster total cores:</td>\n",
       "<td>72</td></tr>\n",
       "<tr><td>H2O cluster allowed cores:</td>\n",
       "<td>5</td></tr>\n",
       "<tr><td>H2O cluster status:</td>\n",
       "<td>accepting new members, healthy</td></tr>\n",
       "<tr><td>H2O connection url:</td>\n",
       "<td>http://127.0.0.1:54321</td></tr>\n",
       "<tr><td>H2O connection proxy:</td>\n",
       "<td>None</td></tr>\n",
       "<tr><td>H2O internal security:</td>\n",
       "<td>False</td></tr>\n",
       "<tr><td>H2O API Extensions:</td>\n",
       "<td>Amazon S3, XGBoost, Algos, AutoML, Core V3, Core V4</td></tr>\n",
       "<tr><td>Python version:</td>\n",
       "<td>3.6.3 final</td></tr></table></div>"
      ],
      "text/plain": [
       "--------------------------  ---------------------------------------------------\n",
       "H2O cluster uptime:         01 secs\n",
       "H2O cluster timezone:       Europe/Istanbul\n",
       "H2O data parsing timezone:  UTC\n",
       "H2O cluster version:        3.26.0.3\n",
       "H2O cluster version age:    2 months and 14 days\n",
       "H2O cluster name:           H2O_from_python_sefik_zp5cag\n",
       "H2O cluster total nodes:    1\n",
       "H2O cluster free memory:    177.8 Gb\n",
       "H2O cluster total cores:    72\n",
       "H2O cluster allowed cores:  5\n",
       "H2O cluster status:         accepting new members, healthy\n",
       "H2O connection url:         http://127.0.0.1:54321\n",
       "H2O connection proxy:\n",
       "H2O internal security:      False\n",
       "H2O API Extensions:         Amazon S3, XGBoost, Algos, AutoML, Core V3, Core V4\n",
       "Python version:             3.6.3 final\n",
       "--------------------------  ---------------------------------------------------"
      ]
     },
     "metadata": {},
     "output_type": "display_data"
    }
   ],
   "source": [
    "h2o.init(ip=\"127.0.0.1\", max_mem_size_GB = 200, nthreads = 5)"
   ]
  },
  {
   "cell_type": "code",
   "execution_count": 4,
   "metadata": {},
   "outputs": [
    {
     "name": "stdout",
     "output_type": "stream",
     "text": [
      "train loaded\n",
      "metadata loaded\n",
      "train and metadata merged\n",
      "weather loaded\n",
      "train and weather merged\n",
      "18.145678758621216  seconds\n"
     ]
    }
   ],
   "source": [
    "tic = time.time()\n",
    "\n",
    "train = pd.read_csv('train.csv')\n",
    "print(\"train loaded\")\n",
    "metadata = pd.read_csv('building_metadata.csv')\n",
    "print(\"metadata loaded\")\n",
    "train = train.merge(metadata, on=\"building_id\", how=\"left\")\n",
    "print(\"train and metadata merged\")\n",
    "\n",
    "weather = pd.read_csv('weather_train.csv')\n",
    "print(\"weather loaded\")\n",
    "train = train.merge(weather, on=[\"site_id\", \"timestamp\"], how=\"left\")\n",
    "print(\"train and weather merged\")\n",
    "\n",
    "toc = time.time()\n",
    "\n",
    "print(toc - tic,\" seconds\")"
   ]
  },
  {
   "cell_type": "code",
   "execution_count": 5,
   "metadata": {},
   "outputs": [],
   "source": [
    "#very large target causes trouble for rmsle\n",
    "#restore this with np.expm1 in prediction\n",
    "train['meter_reading'] = np.log1p(train['meter_reading']).astype(np.float32)"
   ]
  },
  {
   "cell_type": "code",
   "execution_count": 6,
   "metadata": {},
   "outputs": [
    {
     "name": "stdout",
     "output_type": "stream",
     "text": [
      "Parse progress: |█████████████████████████████████████████████████████████| 100%\n",
      "263.1781129837036  seconds\n"
     ]
    }
   ],
   "source": [
    "tic = time.time()\n",
    "\n",
    "hf_train = h2o.H2OFrame(train)\n",
    "\n",
    "toc = time.time()\n",
    "print(toc-tic,\" seconds\")"
   ]
  },
  {
   "cell_type": "code",
   "execution_count": 7,
   "metadata": {},
   "outputs": [],
   "source": [
    "target_label = 'meter_reading'"
   ]
  },
  {
   "cell_type": "code",
   "execution_count": 8,
   "metadata": {},
   "outputs": [],
   "source": [
    "#we no longer need to store pandas data frame\n",
    "del train"
   ]
  },
  {
   "cell_type": "code",
   "execution_count": 9,
   "metadata": {},
   "outputs": [
    {
     "data": {
      "text/html": [
       "<table>\n",
       "<thead>\n",
       "<tr><th style=\"text-align: right;\">  building_id</th><th style=\"text-align: right;\">  meter</th><th>timestamp          </th><th style=\"text-align: right;\">  meter_reading</th><th style=\"text-align: right;\">  site_id</th><th>primary_use        </th><th style=\"text-align: right;\">  square_feet</th><th style=\"text-align: right;\">  year_built</th><th style=\"text-align: right;\">  floor_count</th><th style=\"text-align: right;\">  air_temperature</th><th style=\"text-align: right;\">  cloud_coverage</th><th style=\"text-align: right;\">  dew_temperature</th><th style=\"text-align: right;\">  precip_depth_1_hr</th><th style=\"text-align: right;\">  sea_level_pressure</th><th style=\"text-align: right;\">  wind_direction</th><th style=\"text-align: right;\">  wind_speed</th></tr>\n",
       "</thead>\n",
       "<tbody>\n",
       "<tr><td style=\"text-align: right;\">            0</td><td style=\"text-align: right;\">      0</td><td>2016-01-01 00:00:00</td><td style=\"text-align: right;\">              0</td><td style=\"text-align: right;\">        0</td><td>Education          </td><td style=\"text-align: right;\">         7432</td><td style=\"text-align: right;\">        2008</td><td style=\"text-align: right;\">          nan</td><td style=\"text-align: right;\">               25</td><td style=\"text-align: right;\">               6</td><td style=\"text-align: right;\">               20</td><td style=\"text-align: right;\">                nan</td><td style=\"text-align: right;\">              1019.7</td><td style=\"text-align: right;\">               0</td><td style=\"text-align: right;\">           0</td></tr>\n",
       "<tr><td style=\"text-align: right;\">            1</td><td style=\"text-align: right;\">      0</td><td>2016-01-01 00:00:00</td><td style=\"text-align: right;\">              0</td><td style=\"text-align: right;\">        0</td><td>Education          </td><td style=\"text-align: right;\">         2720</td><td style=\"text-align: right;\">        2004</td><td style=\"text-align: right;\">          nan</td><td style=\"text-align: right;\">               25</td><td style=\"text-align: right;\">               6</td><td style=\"text-align: right;\">               20</td><td style=\"text-align: right;\">                nan</td><td style=\"text-align: right;\">              1019.7</td><td style=\"text-align: right;\">               0</td><td style=\"text-align: right;\">           0</td></tr>\n",
       "<tr><td style=\"text-align: right;\">            2</td><td style=\"text-align: right;\">      0</td><td>2016-01-01 00:00:00</td><td style=\"text-align: right;\">              0</td><td style=\"text-align: right;\">        0</td><td>Education          </td><td style=\"text-align: right;\">         5376</td><td style=\"text-align: right;\">        1991</td><td style=\"text-align: right;\">          nan</td><td style=\"text-align: right;\">               25</td><td style=\"text-align: right;\">               6</td><td style=\"text-align: right;\">               20</td><td style=\"text-align: right;\">                nan</td><td style=\"text-align: right;\">              1019.7</td><td style=\"text-align: right;\">               0</td><td style=\"text-align: right;\">           0</td></tr>\n",
       "<tr><td style=\"text-align: right;\">            3</td><td style=\"text-align: right;\">      0</td><td>2016-01-01 00:00:00</td><td style=\"text-align: right;\">              0</td><td style=\"text-align: right;\">        0</td><td>Education          </td><td style=\"text-align: right;\">        23685</td><td style=\"text-align: right;\">        2002</td><td style=\"text-align: right;\">          nan</td><td style=\"text-align: right;\">               25</td><td style=\"text-align: right;\">               6</td><td style=\"text-align: right;\">               20</td><td style=\"text-align: right;\">                nan</td><td style=\"text-align: right;\">              1019.7</td><td style=\"text-align: right;\">               0</td><td style=\"text-align: right;\">           0</td></tr>\n",
       "<tr><td style=\"text-align: right;\">            4</td><td style=\"text-align: right;\">      0</td><td>2016-01-01 00:00:00</td><td style=\"text-align: right;\">              0</td><td style=\"text-align: right;\">        0</td><td>Education          </td><td style=\"text-align: right;\">       116607</td><td style=\"text-align: right;\">        1975</td><td style=\"text-align: right;\">          nan</td><td style=\"text-align: right;\">               25</td><td style=\"text-align: right;\">               6</td><td style=\"text-align: right;\">               20</td><td style=\"text-align: right;\">                nan</td><td style=\"text-align: right;\">              1019.7</td><td style=\"text-align: right;\">               0</td><td style=\"text-align: right;\">           0</td></tr>\n",
       "<tr><td style=\"text-align: right;\">            5</td><td style=\"text-align: right;\">      0</td><td>2016-01-01 00:00:00</td><td style=\"text-align: right;\">              0</td><td style=\"text-align: right;\">        0</td><td>Education          </td><td style=\"text-align: right;\">         8000</td><td style=\"text-align: right;\">        2000</td><td style=\"text-align: right;\">          nan</td><td style=\"text-align: right;\">               25</td><td style=\"text-align: right;\">               6</td><td style=\"text-align: right;\">               20</td><td style=\"text-align: right;\">                nan</td><td style=\"text-align: right;\">              1019.7</td><td style=\"text-align: right;\">               0</td><td style=\"text-align: right;\">           0</td></tr>\n",
       "<tr><td style=\"text-align: right;\">            6</td><td style=\"text-align: right;\">      0</td><td>2016-01-01 00:00:00</td><td style=\"text-align: right;\">              0</td><td style=\"text-align: right;\">        0</td><td>Lodging/residential</td><td style=\"text-align: right;\">        27926</td><td style=\"text-align: right;\">        1981</td><td style=\"text-align: right;\">          nan</td><td style=\"text-align: right;\">               25</td><td style=\"text-align: right;\">               6</td><td style=\"text-align: right;\">               20</td><td style=\"text-align: right;\">                nan</td><td style=\"text-align: right;\">              1019.7</td><td style=\"text-align: right;\">               0</td><td style=\"text-align: right;\">           0</td></tr>\n",
       "<tr><td style=\"text-align: right;\">            7</td><td style=\"text-align: right;\">      0</td><td>2016-01-01 00:00:00</td><td style=\"text-align: right;\">              0</td><td style=\"text-align: right;\">        0</td><td>Education          </td><td style=\"text-align: right;\">       121074</td><td style=\"text-align: right;\">        1989</td><td style=\"text-align: right;\">          nan</td><td style=\"text-align: right;\">               25</td><td style=\"text-align: right;\">               6</td><td style=\"text-align: right;\">               20</td><td style=\"text-align: right;\">                nan</td><td style=\"text-align: right;\">              1019.7</td><td style=\"text-align: right;\">               0</td><td style=\"text-align: right;\">           0</td></tr>\n",
       "<tr><td style=\"text-align: right;\">            8</td><td style=\"text-align: right;\">      0</td><td>2016-01-01 00:00:00</td><td style=\"text-align: right;\">              0</td><td style=\"text-align: right;\">        0</td><td>Education          </td><td style=\"text-align: right;\">        60809</td><td style=\"text-align: right;\">        2003</td><td style=\"text-align: right;\">          nan</td><td style=\"text-align: right;\">               25</td><td style=\"text-align: right;\">               6</td><td style=\"text-align: right;\">               20</td><td style=\"text-align: right;\">                nan</td><td style=\"text-align: right;\">              1019.7</td><td style=\"text-align: right;\">               0</td><td style=\"text-align: right;\">           0</td></tr>\n",
       "<tr><td style=\"text-align: right;\">            9</td><td style=\"text-align: right;\">      0</td><td>2016-01-01 00:00:00</td><td style=\"text-align: right;\">              0</td><td style=\"text-align: right;\">        0</td><td>Office             </td><td style=\"text-align: right;\">        27000</td><td style=\"text-align: right;\">        2010</td><td style=\"text-align: right;\">          nan</td><td style=\"text-align: right;\">               25</td><td style=\"text-align: right;\">               6</td><td style=\"text-align: right;\">               20</td><td style=\"text-align: right;\">                nan</td><td style=\"text-align: right;\">              1019.7</td><td style=\"text-align: right;\">               0</td><td style=\"text-align: right;\">           0</td></tr>\n",
       "</tbody>\n",
       "</table>"
      ]
     },
     "metadata": {},
     "output_type": "display_data"
    },
    {
     "data": {
      "text/plain": []
     },
     "execution_count": 9,
     "metadata": {},
     "output_type": "execute_result"
    }
   ],
   "source": [
    "hf_train.head()"
   ]
  },
  {
   "cell_type": "markdown",
   "metadata": {},
   "source": [
    "# Expand features"
   ]
  },
  {
   "cell_type": "code",
   "execution_count": 10,
   "metadata": {},
   "outputs": [],
   "source": [
    "def expandFeatures(df):\n",
    "    df['year'] = df['timestamp'].year()\n",
    "    df['month'] = df['timestamp'].month()\n",
    "    df['day'] = df['timestamp'].day()\n",
    "    df['hour'] = df['timestamp'].hour()\n",
    "    df['weekday'] = df['timestamp'].dayOfWeek()\n",
    "    \n",
    "    #-------------------------------\n",
    "    \n",
    "    df['square_feet'] = df['square_feet'].log()\n",
    "    \n",
    "    df['year_built'] = df['year_built'].asnumeric()\n",
    "    df['year_built'] = df[df['year_built'] >= 0]['year_built'].max() - df['year_built']\n",
    "    \n",
    "    df['sea_level_pressure'] = df['sea_level_pressure']- df[df['sea_level_pressure'] >= 0]['sea_level_pressure'].min()\n",
    "    \n",
    "    #-------------------------------\n",
    "    \n",
    "    df = df.drop('timestamp')\n",
    "    \n",
    "    return df"
   ]
  },
  {
   "cell_type": "code",
   "execution_count": 11,
   "metadata": {},
   "outputs": [
    {
     "name": "stdout",
     "output_type": "stream",
     "text": [
      "Features expanded for train ( 10.844329118728638  seconds)\n"
     ]
    }
   ],
   "source": [
    "tic = time.time()\n",
    "hf_train = expandFeatures(hf_train)\n",
    "toc = time.time()\n",
    "print(\"Features expanded for train (\",toc-tic,\" seconds)\")"
   ]
  },
  {
   "cell_type": "code",
   "execution_count": 12,
   "metadata": {},
   "outputs": [
    {
     "data": {
      "text/plain": [
       "(20216100, 20)"
      ]
     },
     "execution_count": 12,
     "metadata": {},
     "output_type": "execute_result"
    }
   ],
   "source": [
    "hf_train.shape"
   ]
  },
  {
   "cell_type": "code",
   "execution_count": 13,
   "metadata": {},
   "outputs": [],
   "source": [
    "categorical_features = ['meter', 'primary_use', 'site_id', 'building_id']"
   ]
  },
  {
   "cell_type": "code",
   "execution_count": 14,
   "metadata": {},
   "outputs": [],
   "source": [
    "#for key, col_type in hf_train.types.items():\n",
    "for key in hf_train.types:\n",
    "    col_type = hf_train.types[key]\n",
    "    if key in categorical_features:\n",
    "        hf_train[key] = hf_train[key].asfactor()\n",
    "    else:\n",
    "        hf_train[key] = hf_train[key].asnumeric()"
   ]
  },
  {
   "cell_type": "code",
   "execution_count": 15,
   "metadata": {},
   "outputs": [
    {
     "name": "stdout",
     "output_type": "stream",
     "text": [
      "Rows:20216100\n",
      "Cols:20\n",
      "\n",
      "\n"
     ]
    },
    {
     "data": {
      "text/html": [
       "<table>\n",
       "<thead>\n",
       "<tr><th>       </th><th>building_id  </th><th>meter  </th><th>meter_reading     </th><th>site_id  </th><th>primary_use        </th><th>square_feet       </th><th>year_built        </th><th>floor_count       </th><th>air_temperature   </th><th>cloud_coverage   </th><th>dew_temperature   </th><th>precip_depth_1_hr  </th><th>sea_level_pressure  </th><th>wind_direction    </th><th>wind_speed        </th><th>year  </th><th>month             </th><th>day               </th><th>hour             </th><th>weekday           </th></tr>\n",
       "</thead>\n",
       "<tbody>\n",
       "<tr><td>type   </td><td>enum         </td><td>enum   </td><td>real              </td><td>enum     </td><td>enum               </td><td>real              </td><td>int               </td><td>int               </td><td>real              </td><td>int              </td><td>real              </td><td>int                </td><td>real                </td><td>int               </td><td>real              </td><td>int   </td><td>int               </td><td>int               </td><td>int              </td><td>int               </td></tr>\n",
       "<tr><td>mins   </td><td>             </td><td>       </td><td>0.0               </td><td>         </td><td>                   </td><td>5.645446897643238 </td><td>0.0               </td><td>0.0               </td><td>-28.9             </td><td>0.0              </td><td>-35.0             </td><td>-1.0               </td><td>0.0                 </td><td>0.0               </td><td>0.0               </td><td>2016.0</td><td>1.0               </td><td>1.0               </td><td>0.0              </td><td>0.0               </td></tr>\n",
       "<tr><td>mean   </td><td>             </td><td>       </td><td>4.145765666717879 </td><td>         </td><td>                   </td><td>11.03941325515514 </td><td>19.806972660404327</td><td>16.275637684815578</td><td>15.987952737456638</td><td>5.436303886506298</td><td>7.747429309861423 </td><td>0.796415538714005  </td><td>47.88548737120429   </td><td>173.0151039172268 </td><td>3.3775245829801133</td><td>2016.0</td><td>6.5784530646366015</td><td>15.761227041813209</td><td>11.50231755877741</td><td>3.00695762288473  </td></tr>\n",
       "<tr><td>maxs   </td><td>             </td><td>       </td><td>16.902212142944336</td><td>         </td><td>                   </td><td>13.681979165339751</td><td>116.0             </td><td>18.0              </td><td>47.2              </td><td>10.0             </td><td>26.1              </td><td>343.0              </td><td>77.29999999999995   </td><td>360.0             </td><td>19.0              </td><td>2016.0</td><td>12.0              </td><td>31.0              </td><td>23.0             </td><td>6.0               </td></tr>\n",
       "<tr><td>sigma  </td><td>             </td><td>       </td><td>2.146220046542852 </td><td>         </td><td>                   </td><td>1.180525124823705 </td><td>30.74401289346902 </td><td>4.458282278362877 </td><td>10.947292617476561</td><td>4.403410359072409</td><td>10.178666840106992</td><td>7.468996644451527  </td><td>7.060539185923556   </td><td>114.05736420869192</td><td>2.2656939441528188</td><td>0.0   </td><td>3.436661773246548 </td><td>8.820534618755353 </td><td>6.922017339280046</td><td>1.9971914946353297</td></tr>\n",
       "<tr><td>zeros  </td><td>             </td><td>       </td><td>1873976           </td><td>         </td><td>                   </td><td>0                 </td><td>12127645          </td><td>934303            </td><td>141477            </td><td>5752501          </td><td>331655            </td><td>14517573           </td><td>35                  </td><td>2373540           </td><td>2384761           </td><td>0     </td><td>0                 </td><td>0                 </td><td>842381           </td><td>2871227           </td></tr>\n",
       "<tr><td>missing</td><td>0            </td><td>0      </td><td>0                 </td><td>0        </td><td>0                  </td><td>0                 </td><td>0                 </td><td>0                 </td><td>96658             </td><td>0                </td><td>100140            </td><td>3749023            </td><td>1231669             </td><td>1449048           </td><td>143676            </td><td>0     </td><td>0                 </td><td>0                 </td><td>0                </td><td>0                 </td></tr>\n",
       "<tr><td>0      </td><td>0            </td><td>0      </td><td>0.0               </td><td>0        </td><td>Education          </td><td>8.913550280493675 </td><td>10.0              </td><td>18.0              </td><td>25.0              </td><td>6.0              </td><td>20.0              </td><td>nan                </td><td>51.5                </td><td>0.0               </td><td>0.0               </td><td>2016.0</td><td>1.0               </td><td>1.0               </td><td>0.0              </td><td>4.0               </td></tr>\n",
       "<tr><td>1      </td><td>1            </td><td>0      </td><td>0.0               </td><td>0        </td><td>Education          </td><td>7.908387159290043 </td><td>14.0              </td><td>18.0              </td><td>25.0              </td><td>6.0              </td><td>20.0              </td><td>nan                </td><td>51.5                </td><td>0.0               </td><td>0.0               </td><td>2016.0</td><td>1.0               </td><td>1.0               </td><td>0.0              </td><td>4.0               </td></tr>\n",
       "<tr><td>2      </td><td>2            </td><td>0      </td><td>0.0               </td><td>0        </td><td>Education          </td><td>8.589699882202986 </td><td>27.0              </td><td>18.0              </td><td>25.0              </td><td>6.0              </td><td>20.0              </td><td>nan                </td><td>51.5                </td><td>0.0               </td><td>0.0               </td><td>2016.0</td><td>1.0               </td><td>1.0               </td><td>0.0              </td><td>4.0               </td></tr>\n",
       "<tr><td>3      </td><td>3            </td><td>0      </td><td>0.0               </td><td>0        </td><td>Education          </td><td>10.072597215357852</td><td>16.0              </td><td>18.0              </td><td>25.0              </td><td>6.0              </td><td>20.0              </td><td>nan                </td><td>51.5                </td><td>0.0               </td><td>0.0               </td><td>2016.0</td><td>1.0               </td><td>1.0               </td><td>0.0              </td><td>4.0               </td></tr>\n",
       "<tr><td>4      </td><td>4            </td><td>0      </td><td>0.0               </td><td>0        </td><td>Education          </td><td>11.66656458540186 </td><td>43.0              </td><td>18.0              </td><td>25.0              </td><td>6.0              </td><td>20.0              </td><td>nan                </td><td>51.5                </td><td>0.0               </td><td>0.0               </td><td>2016.0</td><td>1.0               </td><td>1.0               </td><td>0.0              </td><td>4.0               </td></tr>\n",
       "<tr><td>5      </td><td>5            </td><td>0      </td><td>0.0               </td><td>0        </td><td>Education          </td><td>8.987196820661973 </td><td>18.0              </td><td>18.0              </td><td>25.0              </td><td>6.0              </td><td>20.0              </td><td>nan                </td><td>51.5                </td><td>0.0               </td><td>0.0               </td><td>2016.0</td><td>1.0               </td><td>1.0               </td><td>0.0              </td><td>4.0               </td></tr>\n",
       "<tr><td>6      </td><td>6            </td><td>0      </td><td>0.0               </td><td>0        </td><td>Lodging/residential</td><td>10.23731343350214 </td><td>37.0              </td><td>18.0              </td><td>25.0              </td><td>6.0              </td><td>20.0              </td><td>nan                </td><td>51.5                </td><td>0.0               </td><td>0.0               </td><td>2016.0</td><td>1.0               </td><td>1.0               </td><td>0.0              </td><td>4.0               </td></tr>\n",
       "<tr><td>7      </td><td>7            </td><td>0      </td><td>0.0               </td><td>0        </td><td>Education          </td><td>11.704157207893939</td><td>29.0              </td><td>18.0              </td><td>25.0              </td><td>6.0              </td><td>20.0              </td><td>nan                </td><td>51.5                </td><td>0.0               </td><td>0.0               </td><td>2016.0</td><td>1.0               </td><td>1.0               </td><td>0.0              </td><td>4.0               </td></tr>\n",
       "<tr><td>8      </td><td>8            </td><td>0      </td><td>0.0               </td><td>0        </td><td>Education          </td><td>11.015493083315233</td><td>15.0              </td><td>18.0              </td><td>25.0              </td><td>6.0              </td><td>20.0              </td><td>nan                </td><td>51.5                </td><td>0.0               </td><td>0.0               </td><td>2016.0</td><td>1.0               </td><td>1.0               </td><td>0.0              </td><td>4.0               </td></tr>\n",
       "<tr><td>9      </td><td>9            </td><td>0      </td><td>0.0               </td><td>0        </td><td>Office             </td><td>10.203592144986466</td><td>8.0               </td><td>18.0              </td><td>25.0              </td><td>6.0              </td><td>20.0              </td><td>nan                </td><td>51.5                </td><td>0.0               </td><td>0.0               </td><td>2016.0</td><td>1.0               </td><td>1.0               </td><td>0.0              </td><td>4.0               </td></tr>\n",
       "</tbody>\n",
       "</table>"
      ]
     },
     "metadata": {},
     "output_type": "display_data"
    }
   ],
   "source": [
    "hf_train.describe()"
   ]
  },
  {
   "cell_type": "code",
   "execution_count": 16,
   "metadata": {},
   "outputs": [],
   "source": [
    "feature_names = []\n",
    "\n",
    "for i in hf_train.columns:\n",
    "    if i != target_label:\n",
    "        feature_names.append(i)"
   ]
  },
  {
   "cell_type": "code",
   "execution_count": 17,
   "metadata": {},
   "outputs": [
    {
     "data": {
      "text/html": [
       "<table>\n",
       "<thead>\n",
       "<tr><th style=\"text-align: right;\">  building_id</th><th style=\"text-align: right;\">  meter</th><th style=\"text-align: right;\">  meter_reading</th><th style=\"text-align: right;\">  site_id</th><th>primary_use        </th><th style=\"text-align: right;\">  square_feet</th><th style=\"text-align: right;\">  year_built</th><th style=\"text-align: right;\">  floor_count</th><th style=\"text-align: right;\">  air_temperature</th><th style=\"text-align: right;\">  cloud_coverage</th><th style=\"text-align: right;\">  dew_temperature</th><th style=\"text-align: right;\">  precip_depth_1_hr</th><th style=\"text-align: right;\">  sea_level_pressure</th><th style=\"text-align: right;\">  wind_direction</th><th style=\"text-align: right;\">  wind_speed</th><th style=\"text-align: right;\">  year</th><th style=\"text-align: right;\">  month</th><th style=\"text-align: right;\">  day</th><th style=\"text-align: right;\">  hour</th><th style=\"text-align: right;\">  weekday</th></tr>\n",
       "</thead>\n",
       "<tbody>\n",
       "<tr><td style=\"text-align: right;\">            0</td><td style=\"text-align: right;\">      0</td><td style=\"text-align: right;\">              0</td><td style=\"text-align: right;\">        0</td><td>Education          </td><td style=\"text-align: right;\">      8.91355</td><td style=\"text-align: right;\">          10</td><td style=\"text-align: right;\">           18</td><td style=\"text-align: right;\">               25</td><td style=\"text-align: right;\">               6</td><td style=\"text-align: right;\">               20</td><td style=\"text-align: right;\">                nan</td><td style=\"text-align: right;\">                51.5</td><td style=\"text-align: right;\">               0</td><td style=\"text-align: right;\">           0</td><td style=\"text-align: right;\">  2016</td><td style=\"text-align: right;\">      1</td><td style=\"text-align: right;\">    1</td><td style=\"text-align: right;\">     0</td><td style=\"text-align: right;\">        4</td></tr>\n",
       "<tr><td style=\"text-align: right;\">            1</td><td style=\"text-align: right;\">      0</td><td style=\"text-align: right;\">              0</td><td style=\"text-align: right;\">        0</td><td>Education          </td><td style=\"text-align: right;\">      7.90839</td><td style=\"text-align: right;\">          14</td><td style=\"text-align: right;\">           18</td><td style=\"text-align: right;\">               25</td><td style=\"text-align: right;\">               6</td><td style=\"text-align: right;\">               20</td><td style=\"text-align: right;\">                nan</td><td style=\"text-align: right;\">                51.5</td><td style=\"text-align: right;\">               0</td><td style=\"text-align: right;\">           0</td><td style=\"text-align: right;\">  2016</td><td style=\"text-align: right;\">      1</td><td style=\"text-align: right;\">    1</td><td style=\"text-align: right;\">     0</td><td style=\"text-align: right;\">        4</td></tr>\n",
       "<tr><td style=\"text-align: right;\">            2</td><td style=\"text-align: right;\">      0</td><td style=\"text-align: right;\">              0</td><td style=\"text-align: right;\">        0</td><td>Education          </td><td style=\"text-align: right;\">      8.5897 </td><td style=\"text-align: right;\">          27</td><td style=\"text-align: right;\">           18</td><td style=\"text-align: right;\">               25</td><td style=\"text-align: right;\">               6</td><td style=\"text-align: right;\">               20</td><td style=\"text-align: right;\">                nan</td><td style=\"text-align: right;\">                51.5</td><td style=\"text-align: right;\">               0</td><td style=\"text-align: right;\">           0</td><td style=\"text-align: right;\">  2016</td><td style=\"text-align: right;\">      1</td><td style=\"text-align: right;\">    1</td><td style=\"text-align: right;\">     0</td><td style=\"text-align: right;\">        4</td></tr>\n",
       "<tr><td style=\"text-align: right;\">            3</td><td style=\"text-align: right;\">      0</td><td style=\"text-align: right;\">              0</td><td style=\"text-align: right;\">        0</td><td>Education          </td><td style=\"text-align: right;\">     10.0726 </td><td style=\"text-align: right;\">          16</td><td style=\"text-align: right;\">           18</td><td style=\"text-align: right;\">               25</td><td style=\"text-align: right;\">               6</td><td style=\"text-align: right;\">               20</td><td style=\"text-align: right;\">                nan</td><td style=\"text-align: right;\">                51.5</td><td style=\"text-align: right;\">               0</td><td style=\"text-align: right;\">           0</td><td style=\"text-align: right;\">  2016</td><td style=\"text-align: right;\">      1</td><td style=\"text-align: right;\">    1</td><td style=\"text-align: right;\">     0</td><td style=\"text-align: right;\">        4</td></tr>\n",
       "<tr><td style=\"text-align: right;\">            4</td><td style=\"text-align: right;\">      0</td><td style=\"text-align: right;\">              0</td><td style=\"text-align: right;\">        0</td><td>Education          </td><td style=\"text-align: right;\">     11.6666 </td><td style=\"text-align: right;\">          43</td><td style=\"text-align: right;\">           18</td><td style=\"text-align: right;\">               25</td><td style=\"text-align: right;\">               6</td><td style=\"text-align: right;\">               20</td><td style=\"text-align: right;\">                nan</td><td style=\"text-align: right;\">                51.5</td><td style=\"text-align: right;\">               0</td><td style=\"text-align: right;\">           0</td><td style=\"text-align: right;\">  2016</td><td style=\"text-align: right;\">      1</td><td style=\"text-align: right;\">    1</td><td style=\"text-align: right;\">     0</td><td style=\"text-align: right;\">        4</td></tr>\n",
       "<tr><td style=\"text-align: right;\">            5</td><td style=\"text-align: right;\">      0</td><td style=\"text-align: right;\">              0</td><td style=\"text-align: right;\">        0</td><td>Education          </td><td style=\"text-align: right;\">      8.9872 </td><td style=\"text-align: right;\">          18</td><td style=\"text-align: right;\">           18</td><td style=\"text-align: right;\">               25</td><td style=\"text-align: right;\">               6</td><td style=\"text-align: right;\">               20</td><td style=\"text-align: right;\">                nan</td><td style=\"text-align: right;\">                51.5</td><td style=\"text-align: right;\">               0</td><td style=\"text-align: right;\">           0</td><td style=\"text-align: right;\">  2016</td><td style=\"text-align: right;\">      1</td><td style=\"text-align: right;\">    1</td><td style=\"text-align: right;\">     0</td><td style=\"text-align: right;\">        4</td></tr>\n",
       "<tr><td style=\"text-align: right;\">            6</td><td style=\"text-align: right;\">      0</td><td style=\"text-align: right;\">              0</td><td style=\"text-align: right;\">        0</td><td>Lodging/residential</td><td style=\"text-align: right;\">     10.2373 </td><td style=\"text-align: right;\">          37</td><td style=\"text-align: right;\">           18</td><td style=\"text-align: right;\">               25</td><td style=\"text-align: right;\">               6</td><td style=\"text-align: right;\">               20</td><td style=\"text-align: right;\">                nan</td><td style=\"text-align: right;\">                51.5</td><td style=\"text-align: right;\">               0</td><td style=\"text-align: right;\">           0</td><td style=\"text-align: right;\">  2016</td><td style=\"text-align: right;\">      1</td><td style=\"text-align: right;\">    1</td><td style=\"text-align: right;\">     0</td><td style=\"text-align: right;\">        4</td></tr>\n",
       "<tr><td style=\"text-align: right;\">            7</td><td style=\"text-align: right;\">      0</td><td style=\"text-align: right;\">              0</td><td style=\"text-align: right;\">        0</td><td>Education          </td><td style=\"text-align: right;\">     11.7042 </td><td style=\"text-align: right;\">          29</td><td style=\"text-align: right;\">           18</td><td style=\"text-align: right;\">               25</td><td style=\"text-align: right;\">               6</td><td style=\"text-align: right;\">               20</td><td style=\"text-align: right;\">                nan</td><td style=\"text-align: right;\">                51.5</td><td style=\"text-align: right;\">               0</td><td style=\"text-align: right;\">           0</td><td style=\"text-align: right;\">  2016</td><td style=\"text-align: right;\">      1</td><td style=\"text-align: right;\">    1</td><td style=\"text-align: right;\">     0</td><td style=\"text-align: right;\">        4</td></tr>\n",
       "<tr><td style=\"text-align: right;\">            8</td><td style=\"text-align: right;\">      0</td><td style=\"text-align: right;\">              0</td><td style=\"text-align: right;\">        0</td><td>Education          </td><td style=\"text-align: right;\">     11.0155 </td><td style=\"text-align: right;\">          15</td><td style=\"text-align: right;\">           18</td><td style=\"text-align: right;\">               25</td><td style=\"text-align: right;\">               6</td><td style=\"text-align: right;\">               20</td><td style=\"text-align: right;\">                nan</td><td style=\"text-align: right;\">                51.5</td><td style=\"text-align: right;\">               0</td><td style=\"text-align: right;\">           0</td><td style=\"text-align: right;\">  2016</td><td style=\"text-align: right;\">      1</td><td style=\"text-align: right;\">    1</td><td style=\"text-align: right;\">     0</td><td style=\"text-align: right;\">        4</td></tr>\n",
       "<tr><td style=\"text-align: right;\">            9</td><td style=\"text-align: right;\">      0</td><td style=\"text-align: right;\">              0</td><td style=\"text-align: right;\">        0</td><td>Office             </td><td style=\"text-align: right;\">     10.2036 </td><td style=\"text-align: right;\">           8</td><td style=\"text-align: right;\">           18</td><td style=\"text-align: right;\">               25</td><td style=\"text-align: right;\">               6</td><td style=\"text-align: right;\">               20</td><td style=\"text-align: right;\">                nan</td><td style=\"text-align: right;\">                51.5</td><td style=\"text-align: right;\">               0</td><td style=\"text-align: right;\">           0</td><td style=\"text-align: right;\">  2016</td><td style=\"text-align: right;\">      1</td><td style=\"text-align: right;\">    1</td><td style=\"text-align: right;\">     0</td><td style=\"text-align: right;\">        4</td></tr>\n",
       "</tbody>\n",
       "</table>"
      ]
     },
     "metadata": {},
     "output_type": "display_data"
    },
    {
     "data": {
      "text/plain": []
     },
     "execution_count": 17,
     "metadata": {},
     "output_type": "execute_result"
    }
   ],
   "source": [
    "hf_train.head()"
   ]
  },
  {
   "cell_type": "markdown",
   "metadata": {},
   "source": [
    "# Train Test and Validation Split"
   ]
  },
  {
   "cell_type": "code",
   "execution_count": 18,
   "metadata": {},
   "outputs": [
    {
     "name": "stdout",
     "output_type": "stream",
     "text": [
      "6.518462419509888  seconds\n"
     ]
    }
   ],
   "source": [
    "#70% train, 15% test, 15% validation\n",
    "tic = time.time()\n",
    "train, test, validation = hf_train.split_frame(ratios=[0.70, 0.15], seed=17)\n",
    "toc = time.time()\n",
    "\n",
    "print(toc -tic,\" seconds\")"
   ]
  },
  {
   "cell_type": "markdown",
   "metadata": {},
   "source": [
    "# H2O XGBoost"
   ]
  },
  {
   "cell_type": "code",
   "execution_count": 19,
   "metadata": {},
   "outputs": [],
   "source": [
    "from h2o.estimators.xgboost import H2OXGBoostEstimator"
   ]
  },
  {
   "cell_type": "code",
   "execution_count": 20,
   "metadata": {},
   "outputs": [],
   "source": [
    "model = H2OXGBoostEstimator(\n",
    "    ntrees = 250\n",
    "    , max_depth = 10\n",
    "    , learn_rate = 0.01\n",
    "    , seed = 4241\n",
    "    , stopping_rounds = 50\n",
    "    , stopping_metric = \"RMSE\"\n",
    ")"
   ]
  },
  {
   "cell_type": "code",
   "execution_count": 21,
   "metadata": {},
   "outputs": [
    {
     "name": "stdout",
     "output_type": "stream",
     "text": [
      "xgboost Model Build progress: |███████████████████████████████████████████| 100%\n",
      "204.630362033844  seconds\n"
     ]
    }
   ],
   "source": [
    "tic = time.time()\n",
    "\n",
    "model.train(x=feature_names, y=target_label\n",
    "          , training_frame=train, validation_frame = validation)\n",
    "\n",
    "toc = time.time()\n",
    "\n",
    "print(toc-tic,\" seconds\")"
   ]
  },
  {
   "cell_type": "code",
   "execution_count": 22,
   "metadata": {
    "scrolled": true
   },
   "outputs": [
    {
     "name": "stdout",
     "output_type": "stream",
     "text": [
      "Model Details\n",
      "=============\n",
      "H2OXGBoostEstimator :  XGBoost\n",
      "Model Key:  XGBoost_model_python_1573108775513_1\n",
      "\n",
      "\n",
      "Model Summary: "
     ]
    },
    {
     "data": {
      "text/html": [
       "<div>\n",
       "<style scoped>\n",
       "    .dataframe tbody tr th:only-of-type {\n",
       "        vertical-align: middle;\n",
       "    }\n",
       "\n",
       "    .dataframe tbody tr th {\n",
       "        vertical-align: top;\n",
       "    }\n",
       "\n",
       "    .dataframe thead th {\n",
       "        text-align: right;\n",
       "    }\n",
       "</style>\n",
       "<table border=\"1\" class=\"dataframe\">\n",
       "  <thead>\n",
       "    <tr style=\"text-align: right;\">\n",
       "      <th></th>\n",
       "      <th></th>\n",
       "      <th>number_of_trees</th>\n",
       "    </tr>\n",
       "  </thead>\n",
       "  <tbody>\n",
       "    <tr>\n",
       "      <th>0</th>\n",
       "      <td></td>\n",
       "      <td>250.0</td>\n",
       "    </tr>\n",
       "  </tbody>\n",
       "</table>\n",
       "</div>"
      ],
      "text/plain": [
       "     number_of_trees\n",
       "0              250.0"
      ]
     },
     "metadata": {},
     "output_type": "display_data"
    },
    {
     "name": "stdout",
     "output_type": "stream",
     "text": [
      "\n",
      "\n",
      "ModelMetricsRegression: xgboost\n",
      "** Reported on train data. **\n",
      "\n",
      "MSE: 1.655313245734709\n",
      "RMSE: 1.286589773678739\n",
      "MAE: 0.9612503621629688\n",
      "RMSLE: 0.40882414865036387\n",
      "Mean Residual Deviance: 1.655313245734709\n",
      "\n",
      "ModelMetricsRegression: xgboost\n",
      "** Reported on validation data. **\n",
      "\n",
      "MSE: 1.6591409364328964\n",
      "RMSE: 1.2880764482098477\n",
      "MAE: 0.961951546592748\n",
      "RMSLE: 0.4093927972964767\n",
      "Mean Residual Deviance: 1.6591409364328964\n",
      "\n",
      "Scoring History: "
     ]
    },
    {
     "data": {
      "text/html": [
       "<div>\n",
       "<style scoped>\n",
       "    .dataframe tbody tr th:only-of-type {\n",
       "        vertical-align: middle;\n",
       "    }\n",
       "\n",
       "    .dataframe tbody tr th {\n",
       "        vertical-align: top;\n",
       "    }\n",
       "\n",
       "    .dataframe thead th {\n",
       "        text-align: right;\n",
       "    }\n",
       "</style>\n",
       "<table border=\"1\" class=\"dataframe\">\n",
       "  <thead>\n",
       "    <tr style=\"text-align: right;\">\n",
       "      <th></th>\n",
       "      <th></th>\n",
       "      <th>timestamp</th>\n",
       "      <th>duration</th>\n",
       "      <th>number_of_trees</th>\n",
       "      <th>training_rmse</th>\n",
       "      <th>training_mae</th>\n",
       "      <th>training_deviance</th>\n",
       "      <th>validation_rmse</th>\n",
       "      <th>validation_mae</th>\n",
       "      <th>validation_deviance</th>\n",
       "    </tr>\n",
       "  </thead>\n",
       "  <tbody>\n",
       "    <tr>\n",
       "      <th>0</th>\n",
       "      <td></td>\n",
       "      <td>2019-11-07 09:44:51</td>\n",
       "      <td>8.789 sec</td>\n",
       "      <td>0.0</td>\n",
       "      <td>4.23070</td>\n",
       "      <td>3.745262</td>\n",
       "      <td>17.898820</td>\n",
       "      <td>4.230314</td>\n",
       "      <td>3.745079</td>\n",
       "      <td>17.895554</td>\n",
       "    </tr>\n",
       "    <tr>\n",
       "      <th>1</th>\n",
       "      <td></td>\n",
       "      <td>2019-11-07 09:47:20</td>\n",
       "      <td>2 min 37.289 sec</td>\n",
       "      <td>250.0</td>\n",
       "      <td>1.28659</td>\n",
       "      <td>0.961250</td>\n",
       "      <td>1.655313</td>\n",
       "      <td>1.288076</td>\n",
       "      <td>0.961952</td>\n",
       "      <td>1.659141</td>\n",
       "    </tr>\n",
       "  </tbody>\n",
       "</table>\n",
       "</div>"
      ],
      "text/plain": [
       "               timestamp           duration  number_of_trees  training_rmse  \\\n",
       "0    2019-11-07 09:44:51          8.789 sec              0.0        4.23070   \n",
       "1    2019-11-07 09:47:20   2 min 37.289 sec            250.0        1.28659   \n",
       "\n",
       "   training_mae  training_deviance  validation_rmse  validation_mae  \\\n",
       "0      3.745262          17.898820         4.230314        3.745079   \n",
       "1      0.961250           1.655313         1.288076        0.961952   \n",
       "\n",
       "   validation_deviance  \n",
       "0            17.895554  \n",
       "1             1.659141  "
      ]
     },
     "metadata": {},
     "output_type": "display_data"
    },
    {
     "name": "stdout",
     "output_type": "stream",
     "text": [
      "\n",
      "Variable Importances: "
     ]
    },
    {
     "data": {
      "text/html": [
       "<div>\n",
       "<style scoped>\n",
       "    .dataframe tbody tr th:only-of-type {\n",
       "        vertical-align: middle;\n",
       "    }\n",
       "\n",
       "    .dataframe tbody tr th {\n",
       "        vertical-align: top;\n",
       "    }\n",
       "\n",
       "    .dataframe thead th {\n",
       "        text-align: right;\n",
       "    }\n",
       "</style>\n",
       "<table border=\"1\" class=\"dataframe\">\n",
       "  <thead>\n",
       "    <tr style=\"text-align: right;\">\n",
       "      <th></th>\n",
       "      <th>variable</th>\n",
       "      <th>relative_importance</th>\n",
       "      <th>scaled_importance</th>\n",
       "      <th>percentage</th>\n",
       "    </tr>\n",
       "  </thead>\n",
       "  <tbody>\n",
       "    <tr>\n",
       "      <th>0</th>\n",
       "      <td>square_feet</td>\n",
       "      <td>741323712.0</td>\n",
       "      <td>1.000000</td>\n",
       "      <td>0.343042</td>\n",
       "    </tr>\n",
       "    <tr>\n",
       "      <th>1</th>\n",
       "      <td>air_temperature</td>\n",
       "      <td>202715104.0</td>\n",
       "      <td>0.273450</td>\n",
       "      <td>0.093805</td>\n",
       "    </tr>\n",
       "    <tr>\n",
       "      <th>2</th>\n",
       "      <td>month</td>\n",
       "      <td>125446936.0</td>\n",
       "      <td>0.169220</td>\n",
       "      <td>0.058050</td>\n",
       "    </tr>\n",
       "    <tr>\n",
       "      <th>3</th>\n",
       "      <td>site_id.0</td>\n",
       "      <td>95755032.0</td>\n",
       "      <td>0.129168</td>\n",
       "      <td>0.044310</td>\n",
       "    </tr>\n",
       "    <tr>\n",
       "      <th>4</th>\n",
       "      <td>site_id.14</td>\n",
       "      <td>72836880.0</td>\n",
       "      <td>0.098252</td>\n",
       "      <td>0.033705</td>\n",
       "    </tr>\n",
       "    <tr>\n",
       "      <th>5</th>\n",
       "      <td>meter.1</td>\n",
       "      <td>72536864.0</td>\n",
       "      <td>0.097848</td>\n",
       "      <td>0.033566</td>\n",
       "    </tr>\n",
       "    <tr>\n",
       "      <th>6</th>\n",
       "      <td>meter.0</td>\n",
       "      <td>72360352.0</td>\n",
       "      <td>0.097610</td>\n",
       "      <td>0.033484</td>\n",
       "    </tr>\n",
       "    <tr>\n",
       "      <th>7</th>\n",
       "      <td>meter.3</td>\n",
       "      <td>65164072.0</td>\n",
       "      <td>0.087902</td>\n",
       "      <td>0.030154</td>\n",
       "    </tr>\n",
       "    <tr>\n",
       "      <th>8</th>\n",
       "      <td>meter.2</td>\n",
       "      <td>64214400.0</td>\n",
       "      <td>0.086621</td>\n",
       "      <td>0.029715</td>\n",
       "    </tr>\n",
       "    <tr>\n",
       "      <th>9</th>\n",
       "      <td>year_built</td>\n",
       "      <td>61086220.0</td>\n",
       "      <td>0.082402</td>\n",
       "      <td>0.028267</td>\n",
       "    </tr>\n",
       "    <tr>\n",
       "      <th>10</th>\n",
       "      <td>site_id.9</td>\n",
       "      <td>32467660.0</td>\n",
       "      <td>0.043797</td>\n",
       "      <td>0.015024</td>\n",
       "    </tr>\n",
       "    <tr>\n",
       "      <th>11</th>\n",
       "      <td>floor_count</td>\n",
       "      <td>32330728.0</td>\n",
       "      <td>0.043612</td>\n",
       "      <td>0.014961</td>\n",
       "    </tr>\n",
       "    <tr>\n",
       "      <th>12</th>\n",
       "      <td>dew_temperature</td>\n",
       "      <td>29996388.0</td>\n",
       "      <td>0.040463</td>\n",
       "      <td>0.013881</td>\n",
       "    </tr>\n",
       "    <tr>\n",
       "      <th>13</th>\n",
       "      <td>hour</td>\n",
       "      <td>23684292.0</td>\n",
       "      <td>0.031949</td>\n",
       "      <td>0.010960</td>\n",
       "    </tr>\n",
       "    <tr>\n",
       "      <th>14</th>\n",
       "      <td>site_id.5</td>\n",
       "      <td>23202752.0</td>\n",
       "      <td>0.031299</td>\n",
       "      <td>0.010737</td>\n",
       "    </tr>\n",
       "    <tr>\n",
       "      <th>15</th>\n",
       "      <td>primary_use.Parking</td>\n",
       "      <td>21226834.0</td>\n",
       "      <td>0.028634</td>\n",
       "      <td>0.009823</td>\n",
       "    </tr>\n",
       "    <tr>\n",
       "      <th>16</th>\n",
       "      <td>site_id.13</td>\n",
       "      <td>17130874.0</td>\n",
       "      <td>0.023108</td>\n",
       "      <td>0.007927</td>\n",
       "    </tr>\n",
       "    <tr>\n",
       "      <th>17</th>\n",
       "      <td>primary_use.Education</td>\n",
       "      <td>14900765.0</td>\n",
       "      <td>0.020100</td>\n",
       "      <td>0.006895</td>\n",
       "    </tr>\n",
       "    <tr>\n",
       "      <th>18</th>\n",
       "      <td>day</td>\n",
       "      <td>11183781.0</td>\n",
       "      <td>0.015086</td>\n",
       "      <td>0.005175</td>\n",
       "    </tr>\n",
       "    <tr>\n",
       "      <th>19</th>\n",
       "      <td>site_id.2</td>\n",
       "      <td>10160073.0</td>\n",
       "      <td>0.013705</td>\n",
       "      <td>0.004701</td>\n",
       "    </tr>\n",
       "  </tbody>\n",
       "</table>\n",
       "</div>"
      ],
      "text/plain": [
       "                 variable  relative_importance  scaled_importance  percentage\n",
       "0             square_feet          741323712.0           1.000000    0.343042\n",
       "1         air_temperature          202715104.0           0.273450    0.093805\n",
       "2                   month          125446936.0           0.169220    0.058050\n",
       "3               site_id.0           95755032.0           0.129168    0.044310\n",
       "4              site_id.14           72836880.0           0.098252    0.033705\n",
       "5                 meter.1           72536864.0           0.097848    0.033566\n",
       "6                 meter.0           72360352.0           0.097610    0.033484\n",
       "7                 meter.3           65164072.0           0.087902    0.030154\n",
       "8                 meter.2           64214400.0           0.086621    0.029715\n",
       "9              year_built           61086220.0           0.082402    0.028267\n",
       "10              site_id.9           32467660.0           0.043797    0.015024\n",
       "11            floor_count           32330728.0           0.043612    0.014961\n",
       "12        dew_temperature           29996388.0           0.040463    0.013881\n",
       "13                   hour           23684292.0           0.031949    0.010960\n",
       "14              site_id.5           23202752.0           0.031299    0.010737\n",
       "15    primary_use.Parking           21226834.0           0.028634    0.009823\n",
       "16             site_id.13           17130874.0           0.023108    0.007927\n",
       "17  primary_use.Education           14900765.0           0.020100    0.006895\n",
       "18                    day           11183781.0           0.015086    0.005175\n",
       "19              site_id.2           10160073.0           0.013705    0.004701"
      ]
     },
     "metadata": {},
     "output_type": "display_data"
    },
    {
     "name": "stdout",
     "output_type": "stream",
     "text": [
      "\n",
      "See the whole table with table.as_data_frame()\n"
     ]
    },
    {
     "data": {
      "text/plain": []
     },
     "execution_count": 22,
     "metadata": {},
     "output_type": "execute_result"
    }
   ],
   "source": [
    "model"
   ]
  },
  {
   "cell_type": "markdown",
   "metadata": {},
   "source": [
    "# Feature Importance"
   ]
  },
  {
   "cell_type": "code",
   "execution_count": 33,
   "metadata": {},
   "outputs": [
    {
     "data": {
      "image/png": "[encoded data removed]",
      "text/plain": [
       "<Figure size 1008x720 with 1 Axes>"
      ]
     },
     "metadata": {
      "needs_background": "light"
     },
     "output_type": "display_data"
    }
   ],
   "source": [
    "variables = model._model_json['output']['variable_importances']['variable']\n",
    "scaled_importance = model._model_json['output']['variable_importances']['scaled_importance']\n",
    "\n",
    "model.varimp_plot()"
   ]
  },
  {
   "cell_type": "code",
   "execution_count": 32,
   "metadata": {},
   "outputs": [
    {
     "data": {
      "text/plain": [
       "891"
      ]
     },
     "execution_count": 32,
     "metadata": {},
     "output_type": "execute_result"
    }
   ],
   "source": [
    "len(variables)"
   ]
  },
  {
   "cell_type": "markdown",
   "metadata": {},
   "source": [
    "# Performance"
   ]
  },
  {
   "cell_type": "code",
   "execution_count": 25,
   "metadata": {},
   "outputs": [
    {
     "name": "stdout",
     "output_type": "stream",
     "text": [
      "19.664355039596558  seconds\n"
     ]
    }
   ],
   "source": [
    "tic = time.time()\n",
    "test_perf = model.model_performance(test)\n",
    "toc = time.time()\n",
    "print(toc-tic,\" seconds\")"
   ]
  },
  {
   "cell_type": "code",
   "execution_count": 26,
   "metadata": {},
   "outputs": [
    {
     "name": "stdout",
     "output_type": "stream",
     "text": [
      "\n",
      "ModelMetricsRegression: xgboost\n",
      "** Reported on test data. **\n",
      "\n",
      "MSE: 1.6568101263910429\n",
      "RMSE: 1.287171366365428\n",
      "MAE: 0.9611369145541572\n",
      "RMSLE: 0.4088470151227099\n",
      "Mean Residual Deviance: 1.6568101263910429\n"
     ]
    },
    {
     "data": {
      "text/plain": []
     },
     "execution_count": 26,
     "metadata": {},
     "output_type": "execute_result"
    }
   ],
   "source": [
    "test_perf"
   ]
  },
  {
   "cell_type": "markdown",
   "metadata": {},
   "source": [
    "# Prediction"
   ]
  },
  {
   "cell_type": "code",
   "execution_count": 27,
   "metadata": {},
   "outputs": [
    {
     "name": "stdout",
     "output_type": "stream",
     "text": [
      "xgboost prediction progress: |████████████████████████████████████████████| 100%\n",
      "20.21359658241272  seconds\n"
     ]
    }
   ],
   "source": [
    "tic = time.time()\n",
    "predictions = model.predict(test_data = test)\n",
    "toc = time.time()\n",
    "print(toc-tic,\" seconds\")"
   ]
  },
  {
   "cell_type": "code",
   "execution_count": 28,
   "metadata": {},
   "outputs": [],
   "source": [
    "predictions['predict'] = predictions['predict'].expm1()"
   ]
  },
  {
   "cell_type": "code",
   "execution_count": 29,
   "metadata": {},
   "outputs": [
    {
     "data": {
      "text/html": [
       "<table>\n",
       "<thead>\n",
       "<tr><th style=\"text-align: right;\">  predict</th></tr>\n",
       "</thead>\n",
       "<tbody>\n",
       "<tr><td style=\"text-align: right;\"> 245.966 </td></tr>\n",
       "<tr><td style=\"text-align: right;\">  28.502 </td></tr>\n",
       "<tr><td style=\"text-align: right;\">  12.3649</td></tr>\n",
       "<tr><td style=\"text-align: right;\">  80.6125</td></tr>\n",
       "<tr><td style=\"text-align: right;\"> 128.905 </td></tr>\n",
       "<tr><td style=\"text-align: right;\"> 312.105 </td></tr>\n",
       "<tr><td style=\"text-align: right;\"> 340.372 </td></tr>\n",
       "<tr><td style=\"text-align: right;\"> 104.079 </td></tr>\n",
       "<tr><td style=\"text-align: right;\">  10.4608</td></tr>\n",
       "<tr><td style=\"text-align: right;\">  38.5185</td></tr>\n",
       "</tbody>\n",
       "</table>"
      ]
     },
     "metadata": {},
     "output_type": "display_data"
    },
    {
     "data": {
      "text/plain": []
     },
     "execution_count": 29,
     "metadata": {},
     "output_type": "execute_result"
    }
   ],
   "source": [
    "predictions.tail()"
   ]
  },
  {
   "cell_type": "code",
   "execution_count": 30,
   "metadata": {},
   "outputs": [],
   "source": [
    "notebook_toc = time.time()"
   ]
  },
  {
   "cell_type": "code",
   "execution_count": 31,
   "metadata": {},
   "outputs": [
    {
     "name": "stdout",
     "output_type": "stream",
     "text": [
      "notebook completed in  554.0073320865631  seconds\n"
     ]
    }
   ],
   "source": [
    "print(\"notebook completed in \",notebook_toc - notebook_tic,\" seconds\")"
   ]
  }
 ],
 "metadata": {
  "kernelspec": {
   "display_name": "Python 3",
   "language": "python",
   "name": "python3"
  },
  "language_info": {
   "codemirror_mode": {
    "name": "ipython",
    "version": 3
   },
   "file_extension": ".py",
   "mimetype": "text/x-python",
   "name": "python",
   "nbconvert_exporter": "python",
   "pygments_lexer": "ipython3",
   "version": "3.6.3"
  }
 },
 "nbformat": 4,
 "nbformat_minor": 2
}
