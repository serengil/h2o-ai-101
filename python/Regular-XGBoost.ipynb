{
 "cells": [
  {
   "cell_type": "code",
   "execution_count": 1,
   "metadata": {},
   "outputs": [
    {
     "name": "stderr",
     "output_type": "stream",
     "text": [
      "/opt/rh/rh-python36/root/usr/lib64/python3.6/importlib/_bootstrap.py:219: RuntimeWarning: numpy.dtype size changed, may indicate binary incompatibility. Expected 96, got 88\n",
      "  return f(*args, **kwds)\n",
      "/opt/rh/rh-python36/root/usr/lib64/python3.6/importlib/_bootstrap.py:219: RuntimeWarning: numpy.dtype size changed, may indicate binary incompatibility. Expected 96, got 88\n",
      "  return f(*args, **kwds)\n"
     ]
    }
   ],
   "source": [
    "import numpy as np\n",
    "import pandas as pd\n",
    "import time\n",
    "import datetime\n",
    "from sklearn.model_selection import train_test_split\n",
    "from tqdm import tqdm\n",
    "import holidays\n",
    "from datetime import date\n",
    "\n",
    "import os\n",
    "os.environ[\"CUDA_VISIBLE_DEVICES\"]=\"6\""
   ]
  },
  {
   "cell_type": "code",
   "execution_count": 2,
   "metadata": {},
   "outputs": [],
   "source": [
    "notebook_tic = time.time()"
   ]
  },
  {
   "cell_type": "code",
   "execution_count": 3,
   "metadata": {},
   "outputs": [],
   "source": [
    "pd.options.display.max_columns = 50\n",
    "pd.options.display.max_rows = 50\n",
    "pd.options.display.max_seq_items = 50"
   ]
  },
  {
   "cell_type": "code",
   "execution_count": 4,
   "metadata": {},
   "outputs": [
    {
     "name": "stdout",
     "output_type": "stream",
     "text": [
      "train loaded\n",
      "metadata loaded\n",
      "train and metadata merged\n",
      "weather loaded\n",
      "train and weather merged\n",
      "17.619166374206543  seconds\n"
     ]
    }
   ],
   "source": [
    "tic = time.time()\n",
    "\n",
    "train = pd.read_csv('train.csv')\n",
    "print(\"train loaded\")\n",
    "metadata = pd.read_csv('building_metadata.csv')\n",
    "print(\"metadata loaded\")\n",
    "train = train.merge(metadata, on=\"building_id\", how=\"left\")\n",
    "print(\"train and metadata merged\")\n",
    "\n",
    "weather = pd.read_csv('weather_train.csv')\n",
    "print(\"weather loaded\")\n",
    "train = train.merge(weather, on=[\"site_id\", \"timestamp\"], how=\"left\")\n",
    "print(\"train and weather merged\")\n",
    "\n",
    "toc = time.time()\n",
    "\n",
    "print(toc - tic,\" seconds\")"
   ]
  },
  {
   "cell_type": "code",
   "execution_count": 5,
   "metadata": {},
   "outputs": [],
   "source": [
    "#very large target causes trouble for rmsle\n",
    "#restore this with np.expm1 in prediction\n",
    "train['meter_reading'] = np.log1p(train['meter_reading']).astype(np.float32)"
   ]
  },
  {
   "cell_type": "code",
   "execution_count": 6,
   "metadata": {},
   "outputs": [],
   "source": [
    "target_label = 'meter_reading'"
   ]
  },
  {
   "cell_type": "markdown",
   "metadata": {},
   "source": [
    "# Expand features"
   ]
  },
  {
   "cell_type": "code",
   "execution_count": 7,
   "metadata": {},
   "outputs": [
    {
     "data": {
      "text/html": [
       "<div>\n",
       "<style scoped>\n",
       "    .dataframe tbody tr th:only-of-type {\n",
       "        vertical-align: middle;\n",
       "    }\n",
       "\n",
       "    .dataframe tbody tr th {\n",
       "        vertical-align: top;\n",
       "    }\n",
       "\n",
       "    .dataframe thead th {\n",
       "        text-align: right;\n",
       "    }\n",
       "</style>\n",
       "<table border=\"1\" class=\"dataframe\">\n",
       "  <thead>\n",
       "    <tr style=\"text-align: right;\">\n",
       "      <th></th>\n",
       "      <th>building_id</th>\n",
       "      <th>meter</th>\n",
       "      <th>timestamp</th>\n",
       "      <th>meter_reading</th>\n",
       "      <th>site_id</th>\n",
       "      <th>primary_use</th>\n",
       "      <th>square_feet</th>\n",
       "      <th>year_built</th>\n",
       "      <th>floor_count</th>\n",
       "      <th>air_temperature</th>\n",
       "      <th>cloud_coverage</th>\n",
       "      <th>dew_temperature</th>\n",
       "      <th>precip_depth_1_hr</th>\n",
       "      <th>sea_level_pressure</th>\n",
       "      <th>wind_direction</th>\n",
       "      <th>wind_speed</th>\n",
       "    </tr>\n",
       "  </thead>\n",
       "  <tbody>\n",
       "    <tr>\n",
       "      <th>0</th>\n",
       "      <td>0</td>\n",
       "      <td>0</td>\n",
       "      <td>2016-01-01 00:00:00</td>\n",
       "      <td>0.0</td>\n",
       "      <td>0</td>\n",
       "      <td>Education</td>\n",
       "      <td>7432</td>\n",
       "      <td>2008.0</td>\n",
       "      <td>NaN</td>\n",
       "      <td>25.0</td>\n",
       "      <td>6.0</td>\n",
       "      <td>20.0</td>\n",
       "      <td>NaN</td>\n",
       "      <td>1019.7</td>\n",
       "      <td>0.0</td>\n",
       "      <td>0.0</td>\n",
       "    </tr>\n",
       "    <tr>\n",
       "      <th>1</th>\n",
       "      <td>1</td>\n",
       "      <td>0</td>\n",
       "      <td>2016-01-01 00:00:00</td>\n",
       "      <td>0.0</td>\n",
       "      <td>0</td>\n",
       "      <td>Education</td>\n",
       "      <td>2720</td>\n",
       "      <td>2004.0</td>\n",
       "      <td>NaN</td>\n",
       "      <td>25.0</td>\n",
       "      <td>6.0</td>\n",
       "      <td>20.0</td>\n",
       "      <td>NaN</td>\n",
       "      <td>1019.7</td>\n",
       "      <td>0.0</td>\n",
       "      <td>0.0</td>\n",
       "    </tr>\n",
       "    <tr>\n",
       "      <th>2</th>\n",
       "      <td>2</td>\n",
       "      <td>0</td>\n",
       "      <td>2016-01-01 00:00:00</td>\n",
       "      <td>0.0</td>\n",
       "      <td>0</td>\n",
       "      <td>Education</td>\n",
       "      <td>5376</td>\n",
       "      <td>1991.0</td>\n",
       "      <td>NaN</td>\n",
       "      <td>25.0</td>\n",
       "      <td>6.0</td>\n",
       "      <td>20.0</td>\n",
       "      <td>NaN</td>\n",
       "      <td>1019.7</td>\n",
       "      <td>0.0</td>\n",
       "      <td>0.0</td>\n",
       "    </tr>\n",
       "    <tr>\n",
       "      <th>3</th>\n",
       "      <td>3</td>\n",
       "      <td>0</td>\n",
       "      <td>2016-01-01 00:00:00</td>\n",
       "      <td>0.0</td>\n",
       "      <td>0</td>\n",
       "      <td>Education</td>\n",
       "      <td>23685</td>\n",
       "      <td>2002.0</td>\n",
       "      <td>NaN</td>\n",
       "      <td>25.0</td>\n",
       "      <td>6.0</td>\n",
       "      <td>20.0</td>\n",
       "      <td>NaN</td>\n",
       "      <td>1019.7</td>\n",
       "      <td>0.0</td>\n",
       "      <td>0.0</td>\n",
       "    </tr>\n",
       "    <tr>\n",
       "      <th>4</th>\n",
       "      <td>4</td>\n",
       "      <td>0</td>\n",
       "      <td>2016-01-01 00:00:00</td>\n",
       "      <td>0.0</td>\n",
       "      <td>0</td>\n",
       "      <td>Education</td>\n",
       "      <td>116607</td>\n",
       "      <td>1975.0</td>\n",
       "      <td>NaN</td>\n",
       "      <td>25.0</td>\n",
       "      <td>6.0</td>\n",
       "      <td>20.0</td>\n",
       "      <td>NaN</td>\n",
       "      <td>1019.7</td>\n",
       "      <td>0.0</td>\n",
       "      <td>0.0</td>\n",
       "    </tr>\n",
       "  </tbody>\n",
       "</table>\n",
       "</div>"
      ],
      "text/plain": [
       "   building_id  meter            timestamp  meter_reading  site_id  \\\n",
       "0            0      0  2016-01-01 00:00:00            0.0        0   \n",
       "1            1      0  2016-01-01 00:00:00            0.0        0   \n",
       "2            2      0  2016-01-01 00:00:00            0.0        0   \n",
       "3            3      0  2016-01-01 00:00:00            0.0        0   \n",
       "4            4      0  2016-01-01 00:00:00            0.0        0   \n",
       "\n",
       "  primary_use  square_feet  year_built  floor_count  air_temperature  \\\n",
       "0   Education         7432      2008.0          NaN             25.0   \n",
       "1   Education         2720      2004.0          NaN             25.0   \n",
       "2   Education         5376      1991.0          NaN             25.0   \n",
       "3   Education        23685      2002.0          NaN             25.0   \n",
       "4   Education       116607      1975.0          NaN             25.0   \n",
       "\n",
       "   cloud_coverage  dew_temperature  precip_depth_1_hr  sea_level_pressure  \\\n",
       "0             6.0             20.0                NaN              1019.7   \n",
       "1             6.0             20.0                NaN              1019.7   \n",
       "2             6.0             20.0                NaN              1019.7   \n",
       "3             6.0             20.0                NaN              1019.7   \n",
       "4             6.0             20.0                NaN              1019.7   \n",
       "\n",
       "   wind_direction  wind_speed  \n",
       "0             0.0         0.0  \n",
       "1             0.0         0.0  \n",
       "2             0.0         0.0  \n",
       "3             0.0         0.0  \n",
       "4             0.0         0.0  "
      ]
     },
     "execution_count": 7,
     "metadata": {},
     "output_type": "execute_result"
    }
   ],
   "source": [
    "train.head()"
   ]
  },
  {
   "cell_type": "code",
   "execution_count": 8,
   "metadata": {},
   "outputs": [
    {
     "name": "stdout",
     "output_type": "stream",
     "text": [
      "16.47582697868347  seconds\n"
     ]
    }
   ],
   "source": [
    "tic = time.time()\n",
    "\n",
    "feature_classes = train['primary_use'].unique()\n",
    "\n",
    "#DataFrame.dtypes for data must be int, float or bool. Did not expect the data types in fields primary_use\n",
    "\n",
    "for j in range(len(feature_classes)):\n",
    "    feature_class = feature_classes[j]\n",
    "    train['primary_use'] = train['primary_use'].replace(feature_class, str(j))\n",
    "train = train.astype({'primary_use': 'int32'})\n",
    "\n",
    "toc = time.time()\n",
    "print(toc-tic,\" seconds\")"
   ]
  },
  {
   "cell_type": "code",
   "execution_count": 9,
   "metadata": {},
   "outputs": [],
   "source": [
    "def expandFeatures(df):       \n",
    "    df['year'] = pd.DatetimeIndex(df['timestamp']).year\n",
    "    df['month'] = pd.DatetimeIndex(df['timestamp']).weekday\n",
    "    df['day'] = pd.DatetimeIndex(df['timestamp']).day\n",
    "    df['hour'] = pd.DatetimeIndex(df['timestamp']).hour\n",
    "    df['weekday'] = pd.DatetimeIndex(df['timestamp']).weekday\n",
    "    \n",
    "    #--------------------------------------\n",
    "    \n",
    "    df['square_feet'] = np.log(df['square_feet'])\n",
    "    df['year_built'] = np.uint8(train['year_built'].max() - df['year_built'])\n",
    "    df['sea_level_pressure'] = np.uint8(df['sea_level_pressure'] - train['sea_level_pressure'].min())\n",
    "    \n",
    "    #--------------------------------------\n",
    "\n",
    "    df = df.drop(columns = [\"timestamp\"])\n",
    "    \n",
    "    return df"
   ]
  },
  {
   "cell_type": "code",
   "execution_count": 10,
   "metadata": {},
   "outputs": [
    {
     "name": "stdout",
     "output_type": "stream",
     "text": [
      "Features expanded for train in  24.05799150466919  seconds\n"
     ]
    }
   ],
   "source": [
    "tic = time.time()\n",
    "train = expandFeatures(train)\n",
    "toc = time.time()\n",
    "print(\"Features expanded for train in \",toc-tic,\" seconds\")"
   ]
  },
  {
   "cell_type": "markdown",
   "metadata": {},
   "source": [
    "# One hot encoding for categorical features"
   ]
  },
  {
   "cell_type": "code",
   "execution_count": 11,
   "metadata": {},
   "outputs": [],
   "source": [
    "categorical_features = ['meter', 'primary_use', 'site_id'\n",
    "                        #, 'building_id'\n",
    "                       ]"
   ]
  },
  {
   "cell_type": "code",
   "execution_count": 12,
   "metadata": {},
   "outputs": [
    {
     "name": "stdout",
     "output_type": "stream",
     "text": [
      "processing  meter\n",
      "processed in  12.410517692565918  seconds\n",
      "processing  primary_use\n",
      "processed in  13.48523211479187  seconds\n",
      "processing  site_id\n",
      "processed in  17.28470468521118  seconds\n"
     ]
    }
   ],
   "source": [
    "for column in categorical_features:\n",
    "    tic = time.time()\n",
    "    print(\"processing \",column)\n",
    "    unique_values = train[column].unique()\n",
    "    one_hot = pd.get_dummies(unique_values, prefix=column)\n",
    "    one_hot[column] = unique_values\n",
    " \n",
    "    train = train.merge(one_hot, left_on = [column], right_on=[column], how=\"left\")\n",
    "    train = train.drop(columns = [column])\n",
    "    toc = time.time()\n",
    "    print(\"processed in \",toc-tic,\" seconds\") #42 seconds"
   ]
  },
  {
   "cell_type": "code",
   "execution_count": 13,
   "metadata": {},
   "outputs": [
    {
     "data": {
      "text/html": [
       "<div>\n",
       "<style scoped>\n",
       "    .dataframe tbody tr th:only-of-type {\n",
       "        vertical-align: middle;\n",
       "    }\n",
       "\n",
       "    .dataframe tbody tr th {\n",
       "        vertical-align: top;\n",
       "    }\n",
       "\n",
       "    .dataframe thead th {\n",
       "        text-align: right;\n",
       "    }\n",
       "</style>\n",
       "<table border=\"1\" class=\"dataframe\">\n",
       "  <thead>\n",
       "    <tr style=\"text-align: right;\">\n",
       "      <th></th>\n",
       "      <th>building_id</th>\n",
       "      <th>meter_reading</th>\n",
       "      <th>square_feet</th>\n",
       "      <th>year_built</th>\n",
       "      <th>floor_count</th>\n",
       "      <th>air_temperature</th>\n",
       "      <th>cloud_coverage</th>\n",
       "      <th>dew_temperature</th>\n",
       "      <th>precip_depth_1_hr</th>\n",
       "      <th>sea_level_pressure</th>\n",
       "      <th>wind_direction</th>\n",
       "      <th>wind_speed</th>\n",
       "      <th>year</th>\n",
       "      <th>month</th>\n",
       "      <th>day</th>\n",
       "      <th>hour</th>\n",
       "      <th>weekday</th>\n",
       "      <th>meter_0</th>\n",
       "      <th>meter_1</th>\n",
       "      <th>meter_2</th>\n",
       "      <th>meter_3</th>\n",
       "      <th>primary_use_0</th>\n",
       "      <th>primary_use_1</th>\n",
       "      <th>primary_use_2</th>\n",
       "      <th>primary_use_3</th>\n",
       "      <th>...</th>\n",
       "      <th>primary_use_7</th>\n",
       "      <th>primary_use_8</th>\n",
       "      <th>primary_use_9</th>\n",
       "      <th>primary_use_10</th>\n",
       "      <th>primary_use_11</th>\n",
       "      <th>primary_use_12</th>\n",
       "      <th>primary_use_13</th>\n",
       "      <th>primary_use_14</th>\n",
       "      <th>primary_use_15</th>\n",
       "      <th>site_id_0</th>\n",
       "      <th>site_id_1</th>\n",
       "      <th>site_id_2</th>\n",
       "      <th>site_id_3</th>\n",
       "      <th>site_id_4</th>\n",
       "      <th>site_id_5</th>\n",
       "      <th>site_id_6</th>\n",
       "      <th>site_id_7</th>\n",
       "      <th>site_id_8</th>\n",
       "      <th>site_id_9</th>\n",
       "      <th>site_id_10</th>\n",
       "      <th>site_id_11</th>\n",
       "      <th>site_id_12</th>\n",
       "      <th>site_id_13</th>\n",
       "      <th>site_id_14</th>\n",
       "      <th>site_id_15</th>\n",
       "    </tr>\n",
       "  </thead>\n",
       "  <tbody>\n",
       "    <tr>\n",
       "      <th>0</th>\n",
       "      <td>0</td>\n",
       "      <td>0.0</td>\n",
       "      <td>8.913550</td>\n",
       "      <td>9</td>\n",
       "      <td>NaN</td>\n",
       "      <td>25.0</td>\n",
       "      <td>6.0</td>\n",
       "      <td>20.0</td>\n",
       "      <td>NaN</td>\n",
       "      <td>51</td>\n",
       "      <td>0.0</td>\n",
       "      <td>0.0</td>\n",
       "      <td>2016</td>\n",
       "      <td>4</td>\n",
       "      <td>1</td>\n",
       "      <td>0</td>\n",
       "      <td>4</td>\n",
       "      <td>1</td>\n",
       "      <td>0</td>\n",
       "      <td>0</td>\n",
       "      <td>0</td>\n",
       "      <td>1</td>\n",
       "      <td>0</td>\n",
       "      <td>0</td>\n",
       "      <td>0</td>\n",
       "      <td>...</td>\n",
       "      <td>0</td>\n",
       "      <td>0</td>\n",
       "      <td>0</td>\n",
       "      <td>0</td>\n",
       "      <td>0</td>\n",
       "      <td>0</td>\n",
       "      <td>0</td>\n",
       "      <td>0</td>\n",
       "      <td>0</td>\n",
       "      <td>1</td>\n",
       "      <td>0</td>\n",
       "      <td>0</td>\n",
       "      <td>0</td>\n",
       "      <td>0</td>\n",
       "      <td>0</td>\n",
       "      <td>0</td>\n",
       "      <td>0</td>\n",
       "      <td>0</td>\n",
       "      <td>0</td>\n",
       "      <td>0</td>\n",
       "      <td>0</td>\n",
       "      <td>0</td>\n",
       "      <td>0</td>\n",
       "      <td>0</td>\n",
       "      <td>0</td>\n",
       "    </tr>\n",
       "    <tr>\n",
       "      <th>1</th>\n",
       "      <td>1</td>\n",
       "      <td>0.0</td>\n",
       "      <td>7.908387</td>\n",
       "      <td>13</td>\n",
       "      <td>NaN</td>\n",
       "      <td>25.0</td>\n",
       "      <td>6.0</td>\n",
       "      <td>20.0</td>\n",
       "      <td>NaN</td>\n",
       "      <td>51</td>\n",
       "      <td>0.0</td>\n",
       "      <td>0.0</td>\n",
       "      <td>2016</td>\n",
       "      <td>4</td>\n",
       "      <td>1</td>\n",
       "      <td>0</td>\n",
       "      <td>4</td>\n",
       "      <td>1</td>\n",
       "      <td>0</td>\n",
       "      <td>0</td>\n",
       "      <td>0</td>\n",
       "      <td>1</td>\n",
       "      <td>0</td>\n",
       "      <td>0</td>\n",
       "      <td>0</td>\n",
       "      <td>...</td>\n",
       "      <td>0</td>\n",
       "      <td>0</td>\n",
       "      <td>0</td>\n",
       "      <td>0</td>\n",
       "      <td>0</td>\n",
       "      <td>0</td>\n",
       "      <td>0</td>\n",
       "      <td>0</td>\n",
       "      <td>0</td>\n",
       "      <td>1</td>\n",
       "      <td>0</td>\n",
       "      <td>0</td>\n",
       "      <td>0</td>\n",
       "      <td>0</td>\n",
       "      <td>0</td>\n",
       "      <td>0</td>\n",
       "      <td>0</td>\n",
       "      <td>0</td>\n",
       "      <td>0</td>\n",
       "      <td>0</td>\n",
       "      <td>0</td>\n",
       "      <td>0</td>\n",
       "      <td>0</td>\n",
       "      <td>0</td>\n",
       "      <td>0</td>\n",
       "    </tr>\n",
       "    <tr>\n",
       "      <th>2</th>\n",
       "      <td>2</td>\n",
       "      <td>0.0</td>\n",
       "      <td>8.589700</td>\n",
       "      <td>26</td>\n",
       "      <td>NaN</td>\n",
       "      <td>25.0</td>\n",
       "      <td>6.0</td>\n",
       "      <td>20.0</td>\n",
       "      <td>NaN</td>\n",
       "      <td>51</td>\n",
       "      <td>0.0</td>\n",
       "      <td>0.0</td>\n",
       "      <td>2016</td>\n",
       "      <td>4</td>\n",
       "      <td>1</td>\n",
       "      <td>0</td>\n",
       "      <td>4</td>\n",
       "      <td>1</td>\n",
       "      <td>0</td>\n",
       "      <td>0</td>\n",
       "      <td>0</td>\n",
       "      <td>1</td>\n",
       "      <td>0</td>\n",
       "      <td>0</td>\n",
       "      <td>0</td>\n",
       "      <td>...</td>\n",
       "      <td>0</td>\n",
       "      <td>0</td>\n",
       "      <td>0</td>\n",
       "      <td>0</td>\n",
       "      <td>0</td>\n",
       "      <td>0</td>\n",
       "      <td>0</td>\n",
       "      <td>0</td>\n",
       "      <td>0</td>\n",
       "      <td>1</td>\n",
       "      <td>0</td>\n",
       "      <td>0</td>\n",
       "      <td>0</td>\n",
       "      <td>0</td>\n",
       "      <td>0</td>\n",
       "      <td>0</td>\n",
       "      <td>0</td>\n",
       "      <td>0</td>\n",
       "      <td>0</td>\n",
       "      <td>0</td>\n",
       "      <td>0</td>\n",
       "      <td>0</td>\n",
       "      <td>0</td>\n",
       "      <td>0</td>\n",
       "      <td>0</td>\n",
       "    </tr>\n",
       "    <tr>\n",
       "      <th>3</th>\n",
       "      <td>3</td>\n",
       "      <td>0.0</td>\n",
       "      <td>10.072597</td>\n",
       "      <td>15</td>\n",
       "      <td>NaN</td>\n",
       "      <td>25.0</td>\n",
       "      <td>6.0</td>\n",
       "      <td>20.0</td>\n",
       "      <td>NaN</td>\n",
       "      <td>51</td>\n",
       "      <td>0.0</td>\n",
       "      <td>0.0</td>\n",
       "      <td>2016</td>\n",
       "      <td>4</td>\n",
       "      <td>1</td>\n",
       "      <td>0</td>\n",
       "      <td>4</td>\n",
       "      <td>1</td>\n",
       "      <td>0</td>\n",
       "      <td>0</td>\n",
       "      <td>0</td>\n",
       "      <td>1</td>\n",
       "      <td>0</td>\n",
       "      <td>0</td>\n",
       "      <td>0</td>\n",
       "      <td>...</td>\n",
       "      <td>0</td>\n",
       "      <td>0</td>\n",
       "      <td>0</td>\n",
       "      <td>0</td>\n",
       "      <td>0</td>\n",
       "      <td>0</td>\n",
       "      <td>0</td>\n",
       "      <td>0</td>\n",
       "      <td>0</td>\n",
       "      <td>1</td>\n",
       "      <td>0</td>\n",
       "      <td>0</td>\n",
       "      <td>0</td>\n",
       "      <td>0</td>\n",
       "      <td>0</td>\n",
       "      <td>0</td>\n",
       "      <td>0</td>\n",
       "      <td>0</td>\n",
       "      <td>0</td>\n",
       "      <td>0</td>\n",
       "      <td>0</td>\n",
       "      <td>0</td>\n",
       "      <td>0</td>\n",
       "      <td>0</td>\n",
       "      <td>0</td>\n",
       "    </tr>\n",
       "    <tr>\n",
       "      <th>4</th>\n",
       "      <td>4</td>\n",
       "      <td>0.0</td>\n",
       "      <td>11.666565</td>\n",
       "      <td>42</td>\n",
       "      <td>NaN</td>\n",
       "      <td>25.0</td>\n",
       "      <td>6.0</td>\n",
       "      <td>20.0</td>\n",
       "      <td>NaN</td>\n",
       "      <td>51</td>\n",
       "      <td>0.0</td>\n",
       "      <td>0.0</td>\n",
       "      <td>2016</td>\n",
       "      <td>4</td>\n",
       "      <td>1</td>\n",
       "      <td>0</td>\n",
       "      <td>4</td>\n",
       "      <td>1</td>\n",
       "      <td>0</td>\n",
       "      <td>0</td>\n",
       "      <td>0</td>\n",
       "      <td>1</td>\n",
       "      <td>0</td>\n",
       "      <td>0</td>\n",
       "      <td>0</td>\n",
       "      <td>...</td>\n",
       "      <td>0</td>\n",
       "      <td>0</td>\n",
       "      <td>0</td>\n",
       "      <td>0</td>\n",
       "      <td>0</td>\n",
       "      <td>0</td>\n",
       "      <td>0</td>\n",
       "      <td>0</td>\n",
       "      <td>0</td>\n",
       "      <td>1</td>\n",
       "      <td>0</td>\n",
       "      <td>0</td>\n",
       "      <td>0</td>\n",
       "      <td>0</td>\n",
       "      <td>0</td>\n",
       "      <td>0</td>\n",
       "      <td>0</td>\n",
       "      <td>0</td>\n",
       "      <td>0</td>\n",
       "      <td>0</td>\n",
       "      <td>0</td>\n",
       "      <td>0</td>\n",
       "      <td>0</td>\n",
       "      <td>0</td>\n",
       "      <td>0</td>\n",
       "    </tr>\n",
       "  </tbody>\n",
       "</table>\n",
       "<p>5 rows × 53 columns</p>\n",
       "</div>"
      ],
      "text/plain": [
       "   building_id  meter_reading  square_feet  year_built  floor_count  \\\n",
       "0            0            0.0     8.913550           9          NaN   \n",
       "1            1            0.0     7.908387          13          NaN   \n",
       "2            2            0.0     8.589700          26          NaN   \n",
       "3            3            0.0    10.072597          15          NaN   \n",
       "4            4            0.0    11.666565          42          NaN   \n",
       "\n",
       "   air_temperature  cloud_coverage  dew_temperature  precip_depth_1_hr  \\\n",
       "0             25.0             6.0             20.0                NaN   \n",
       "1             25.0             6.0             20.0                NaN   \n",
       "2             25.0             6.0             20.0                NaN   \n",
       "3             25.0             6.0             20.0                NaN   \n",
       "4             25.0             6.0             20.0                NaN   \n",
       "\n",
       "   sea_level_pressure  wind_direction  wind_speed  year  month  day  hour  \\\n",
       "0                  51             0.0         0.0  2016      4    1     0   \n",
       "1                  51             0.0         0.0  2016      4    1     0   \n",
       "2                  51             0.0         0.0  2016      4    1     0   \n",
       "3                  51             0.0         0.0  2016      4    1     0   \n",
       "4                  51             0.0         0.0  2016      4    1     0   \n",
       "\n",
       "   weekday  meter_0  meter_1  meter_2  meter_3  primary_use_0  primary_use_1  \\\n",
       "0        4        1        0        0        0              1              0   \n",
       "1        4        1        0        0        0              1              0   \n",
       "2        4        1        0        0        0              1              0   \n",
       "3        4        1        0        0        0              1              0   \n",
       "4        4        1        0        0        0              1              0   \n",
       "\n",
       "   primary_use_2  primary_use_3     ...      primary_use_7  primary_use_8  \\\n",
       "0              0              0     ...                  0              0   \n",
       "1              0              0     ...                  0              0   \n",
       "2              0              0     ...                  0              0   \n",
       "3              0              0     ...                  0              0   \n",
       "4              0              0     ...                  0              0   \n",
       "\n",
       "   primary_use_9  primary_use_10  primary_use_11  primary_use_12  \\\n",
       "0              0               0               0               0   \n",
       "1              0               0               0               0   \n",
       "2              0               0               0               0   \n",
       "3              0               0               0               0   \n",
       "4              0               0               0               0   \n",
       "\n",
       "   primary_use_13  primary_use_14  primary_use_15  site_id_0  site_id_1  \\\n",
       "0               0               0               0          1          0   \n",
       "1               0               0               0          1          0   \n",
       "2               0               0               0          1          0   \n",
       "3               0               0               0          1          0   \n",
       "4               0               0               0          1          0   \n",
       "\n",
       "   site_id_2  site_id_3  site_id_4  site_id_5  site_id_6  site_id_7  \\\n",
       "0          0          0          0          0          0          0   \n",
       "1          0          0          0          0          0          0   \n",
       "2          0          0          0          0          0          0   \n",
       "3          0          0          0          0          0          0   \n",
       "4          0          0          0          0          0          0   \n",
       "\n",
       "   site_id_8  site_id_9  site_id_10  site_id_11  site_id_12  site_id_13  \\\n",
       "0          0          0           0           0           0           0   \n",
       "1          0          0           0           0           0           0   \n",
       "2          0          0           0           0           0           0   \n",
       "3          0          0           0           0           0           0   \n",
       "4          0          0           0           0           0           0   \n",
       "\n",
       "   site_id_14  site_id_15  \n",
       "0           0           0  \n",
       "1           0           0  \n",
       "2           0           0  \n",
       "3           0           0  \n",
       "4           0           0  \n",
       "\n",
       "[5 rows x 53 columns]"
      ]
     },
     "execution_count": 13,
     "metadata": {},
     "output_type": "execute_result"
    }
   ],
   "source": [
    "train.head()"
   ]
  },
  {
   "cell_type": "code",
   "execution_count": 14,
   "metadata": {},
   "outputs": [
    {
     "data": {
      "text/plain": [
       "(20216100, 53)"
      ]
     },
     "execution_count": 14,
     "metadata": {},
     "output_type": "execute_result"
    }
   ],
   "source": [
    "train.shape"
   ]
  },
  {
   "cell_type": "code",
   "execution_count": 15,
   "metadata": {},
   "outputs": [],
   "source": [
    "feature_names = []\n",
    "\n",
    "for i in train.columns:\n",
    "    if i != target_label:\n",
    "        feature_names.append(i)"
   ]
  },
  {
   "cell_type": "markdown",
   "metadata": {},
   "source": [
    "# Train Test and Validation Split"
   ]
  },
  {
   "cell_type": "code",
   "execution_count": 16,
   "metadata": {},
   "outputs": [
    {
     "name": "stdout",
     "output_type": "stream",
     "text": [
      "18.314871549606323  seconds\n"
     ]
    }
   ],
   "source": [
    "tic = time.time()\n",
    "x_train, x_test = train_test_split(train, test_size=0.30, random_state=17)\n",
    "x_test, x_validation = train_test_split(x_test, test_size=0.50, random_state=17)\n",
    "toc = time.time()\n",
    "\n",
    "print(toc - tic,\" seconds\") #18.314871549606323  seconds"
   ]
  },
  {
   "cell_type": "code",
   "execution_count": 17,
   "metadata": {},
   "outputs": [
    {
     "data": {
      "text/plain": [
       "(14151270, 53)"
      ]
     },
     "execution_count": 17,
     "metadata": {},
     "output_type": "execute_result"
    }
   ],
   "source": [
    "x_train.shape"
   ]
  },
  {
   "cell_type": "code",
   "execution_count": 18,
   "metadata": {},
   "outputs": [
    {
     "data": {
      "text/plain": [
       "(3032415, 53)"
      ]
     },
     "execution_count": 18,
     "metadata": {},
     "output_type": "execute_result"
    }
   ],
   "source": [
    "x_test.shape"
   ]
  },
  {
   "cell_type": "code",
   "execution_count": 19,
   "metadata": {},
   "outputs": [
    {
     "data": {
      "text/plain": [
       "(3032415, 53)"
      ]
     },
     "execution_count": 19,
     "metadata": {},
     "output_type": "execute_result"
    }
   ],
   "source": [
    "x_validation.shape"
   ]
  },
  {
   "cell_type": "markdown",
   "metadata": {},
   "source": [
    "# XGBoost"
   ]
  },
  {
   "cell_type": "code",
   "execution_count": 20,
   "metadata": {},
   "outputs": [],
   "source": [
    "import xgboost"
   ]
  },
  {
   "cell_type": "code",
   "execution_count": 21,
   "metadata": {},
   "outputs": [],
   "source": [
    "model = xgboost.XGBRegressor(\n",
    "    n_estimators=250  \n",
    "    , max_depth=10\n",
    "    , learning_rate=0.01\n",
    "    , seed = 4241\n",
    "    , nthread = 5\n",
    ") "
   ]
  },
  {
   "cell_type": "code",
   "execution_count": 22,
   "metadata": {},
   "outputs": [],
   "source": [
    "eval_set = [\n",
    "    (x_validation.drop(columns=[target_label]), x_validation[target_label])\n",
    "    #,(x_test.drop(columns=[target_label]), x_test[target_label])\n",
    "]"
   ]
  },
  {
   "cell_type": "code",
   "execution_count": 23,
   "metadata": {
    "scrolled": true
   },
   "outputs": [
    {
     "name": "stderr",
     "output_type": "stream",
     "text": [
      "/workspaces/sefik/.local/lib/python3.6/site-packages/xgboost/core.py:587: FutureWarning: Series.base is deprecated and will be removed in a future version\n",
      "  if getattr(data, 'base', None) is not None and \\\n",
      "/workspaces/sefik/.local/lib/python3.6/site-packages/xgboost/core.py:588: FutureWarning: Series.base is deprecated and will be removed in a future version\n",
      "  data.base is not None and isinstance(data, np.ndarray) \\\n"
     ]
    },
    {
     "name": "stdout",
     "output_type": "stream",
     "text": [
      "[15:55:52] WARNING: /workspace/src/objective/regression_obj.cu:152: reg:linear is now deprecated in favor of reg:squarederror.\n",
      "[15:55:59] WARNING: /workspace/src/learner.cc:686: Tree method is automatically selected to be 'approx' for faster speed. To use old behavior (exact greedy algorithm on single machine), set tree_method to 'exact'.\n",
      "[0]\tvalidation_0-rmse:4.19391\n",
      "Will train until validation_0-rmse hasn't improved in 50 rounds.\n",
      "[1]\tvalidation_0-rmse:4.15752\n",
      "[2]\tvalidation_0-rmse:4.12147\n",
      "[3]\tvalidation_0-rmse:4.08583\n",
      "[4]\tvalidation_0-rmse:4.05059\n",
      "[5]\tvalidation_0-rmse:4.01576\n",
      "[6]\tvalidation_0-rmse:3.98133\n",
      "[7]\tvalidation_0-rmse:3.94729\n",
      "[8]\tvalidation_0-rmse:3.91359\n",
      "[9]\tvalidation_0-rmse:3.88029\n",
      "[10]\tvalidation_0-rmse:3.84735\n",
      "[11]\tvalidation_0-rmse:3.81483\n",
      "[12]\tvalidation_0-rmse:3.78271\n",
      "[13]\tvalidation_0-rmse:3.75096\n",
      "[14]\tvalidation_0-rmse:3.7195\n",
      "[15]\tvalidation_0-rmse:3.68843\n",
      "[16]\tvalidation_0-rmse:3.65774\n",
      "[17]\tvalidation_0-rmse:3.62739\n",
      "[18]\tvalidation_0-rmse:3.59734\n",
      "[19]\tvalidation_0-rmse:3.56761\n",
      "[20]\tvalidation_0-rmse:3.53822\n",
      "[21]\tvalidation_0-rmse:3.50926\n",
      "[22]\tvalidation_0-rmse:3.48054\n",
      "[23]\tvalidation_0-rmse:3.45218\n",
      "[24]\tvalidation_0-rmse:3.42412\n",
      "[25]\tvalidation_0-rmse:3.39643\n",
      "[26]\tvalidation_0-rmse:3.36901\n",
      "[27]\tvalidation_0-rmse:3.34196\n",
      "[28]\tvalidation_0-rmse:3.3152\n",
      "[29]\tvalidation_0-rmse:3.28868\n",
      "[30]\tvalidation_0-rmse:3.26253\n",
      "[31]\tvalidation_0-rmse:3.23674\n",
      "[32]\tvalidation_0-rmse:3.21125\n",
      "[33]\tvalidation_0-rmse:3.18595\n",
      "[34]\tvalidation_0-rmse:3.161\n",
      "[35]\tvalidation_0-rmse:3.13635\n",
      "[36]\tvalidation_0-rmse:3.11205\n",
      "[37]\tvalidation_0-rmse:3.08805\n",
      "[38]\tvalidation_0-rmse:3.06419\n",
      "[39]\tvalidation_0-rmse:3.04056\n",
      "[40]\tvalidation_0-rmse:3.01711\n",
      "[41]\tvalidation_0-rmse:2.99422\n",
      "[42]\tvalidation_0-rmse:2.97144\n",
      "[43]\tvalidation_0-rmse:2.94892\n",
      "[44]\tvalidation_0-rmse:2.92641\n",
      "[45]\tvalidation_0-rmse:2.90441\n",
      "[46]\tvalidation_0-rmse:2.88241\n",
      "[47]\tvalidation_0-rmse:2.86094\n",
      "[48]\tvalidation_0-rmse:2.83947\n",
      "[49]\tvalidation_0-rmse:2.81847\n",
      "[50]\tvalidation_0-rmse:2.79768\n",
      "[51]\tvalidation_0-rmse:2.77724\n",
      "[52]\tvalidation_0-rmse:2.75677\n",
      "[53]\tvalidation_0-rmse:2.73677\n",
      "[54]\tvalidation_0-rmse:2.71706\n",
      "[55]\tvalidation_0-rmse:2.69729\n",
      "[56]\tvalidation_0-rmse:2.67807\n",
      "[57]\tvalidation_0-rmse:2.65886\n",
      "[58]\tvalidation_0-rmse:2.6402\n",
      "[59]\tvalidation_0-rmse:2.62157\n",
      "[60]\tvalidation_0-rmse:2.60335\n",
      "[61]\tvalidation_0-rmse:2.58537\n",
      "[62]\tvalidation_0-rmse:2.56731\n",
      "[63]\tvalidation_0-rmse:2.54979\n",
      "[64]\tvalidation_0-rmse:2.53215\n",
      "[65]\tvalidation_0-rmse:2.51472\n",
      "[66]\tvalidation_0-rmse:2.4976\n",
      "[67]\tvalidation_0-rmse:2.48086\n",
      "[68]\tvalidation_0-rmse:2.46406\n",
      "[69]\tvalidation_0-rmse:2.44772\n",
      "[70]\tvalidation_0-rmse:2.43155\n",
      "[71]\tvalidation_0-rmse:2.41535\n",
      "[72]\tvalidation_0-rmse:2.39935\n",
      "[73]\tvalidation_0-rmse:2.38354\n",
      "[74]\tvalidation_0-rmse:2.36825\n",
      "[75]\tvalidation_0-rmse:2.35291\n",
      "[76]\tvalidation_0-rmse:2.33772\n",
      "[77]\tvalidation_0-rmse:2.32278\n",
      "[78]\tvalidation_0-rmse:2.30803\n",
      "[79]\tvalidation_0-rmse:2.29354\n",
      "[80]\tvalidation_0-rmse:2.27918\n",
      "[81]\tvalidation_0-rmse:2.26503\n",
      "[82]\tvalidation_0-rmse:2.25106\n",
      "[83]\tvalidation_0-rmse:2.23741\n",
      "[84]\tvalidation_0-rmse:2.22395\n",
      "[85]\tvalidation_0-rmse:2.21053\n",
      "[86]\tvalidation_0-rmse:2.19757\n",
      "[87]\tvalidation_0-rmse:2.18453\n",
      "[88]\tvalidation_0-rmse:2.1718\n",
      "[89]\tvalidation_0-rmse:2.15901\n",
      "[90]\tvalidation_0-rmse:2.14678\n",
      "[91]\tvalidation_0-rmse:2.13459\n",
      "[92]\tvalidation_0-rmse:2.12252\n",
      "[93]\tvalidation_0-rmse:2.11053\n",
      "[94]\tvalidation_0-rmse:2.09854\n",
      "[95]\tvalidation_0-rmse:2.08715\n",
      "[96]\tvalidation_0-rmse:2.07578\n",
      "[97]\tvalidation_0-rmse:2.06469\n",
      "[98]\tvalidation_0-rmse:2.05345\n",
      "[99]\tvalidation_0-rmse:2.04229\n",
      "[100]\tvalidation_0-rmse:2.03139\n",
      "[101]\tvalidation_0-rmse:2.02066\n",
      "[102]\tvalidation_0-rmse:2.00997\n",
      "[103]\tvalidation_0-rmse:1.99974\n",
      "[104]\tvalidation_0-rmse:1.9897\n",
      "[105]\tvalidation_0-rmse:1.97974\n",
      "[106]\tvalidation_0-rmse:1.96938\n",
      "[107]\tvalidation_0-rmse:1.95962\n",
      "[108]\tvalidation_0-rmse:1.95005\n",
      "[109]\tvalidation_0-rmse:1.9406\n",
      "[110]\tvalidation_0-rmse:1.93111\n",
      "[111]\tvalidation_0-rmse:1.92193\n",
      "[112]\tvalidation_0-rmse:1.91264\n",
      "[113]\tvalidation_0-rmse:1.90328\n",
      "[114]\tvalidation_0-rmse:1.89426\n",
      "[115]\tvalidation_0-rmse:1.88534\n",
      "[116]\tvalidation_0-rmse:1.87662\n",
      "[117]\tvalidation_0-rmse:1.86729\n",
      "[118]\tvalidation_0-rmse:1.85832\n",
      "[119]\tvalidation_0-rmse:1.84932\n",
      "[120]\tvalidation_0-rmse:1.84098\n",
      "[121]\tvalidation_0-rmse:1.83226\n",
      "[122]\tvalidation_0-rmse:1.82356\n",
      "[123]\tvalidation_0-rmse:1.81508\n",
      "[124]\tvalidation_0-rmse:1.80711\n",
      "[125]\tvalidation_0-rmse:1.79934\n",
      "[126]\tvalidation_0-rmse:1.79117\n",
      "[127]\tvalidation_0-rmse:1.78312\n",
      "[128]\tvalidation_0-rmse:1.7751\n",
      "[129]\tvalidation_0-rmse:1.76801\n",
      "[130]\tvalidation_0-rmse:1.76089\n",
      "[131]\tvalidation_0-rmse:1.753\n",
      "[132]\tvalidation_0-rmse:1.74601\n",
      "[133]\tvalidation_0-rmse:1.73851\n",
      "[134]\tvalidation_0-rmse:1.73195\n",
      "[135]\tvalidation_0-rmse:1.72458\n",
      "[136]\tvalidation_0-rmse:1.71811\n",
      "[137]\tvalidation_0-rmse:1.71179\n",
      "[138]\tvalidation_0-rmse:1.70507\n",
      "[139]\tvalidation_0-rmse:1.69899\n",
      "[140]\tvalidation_0-rmse:1.69287\n",
      "[141]\tvalidation_0-rmse:1.68637\n",
      "[142]\tvalidation_0-rmse:1.68042\n",
      "[143]\tvalidation_0-rmse:1.67421\n",
      "[144]\tvalidation_0-rmse:1.6685\n",
      "[145]\tvalidation_0-rmse:1.66284\n",
      "[146]\tvalidation_0-rmse:1.65689\n",
      "[147]\tvalidation_0-rmse:1.65145\n",
      "[148]\tvalidation_0-rmse:1.64608\n",
      "[149]\tvalidation_0-rmse:1.64033\n",
      "[150]\tvalidation_0-rmse:1.63513\n",
      "[151]\tvalidation_0-rmse:1.62949\n",
      "[152]\tvalidation_0-rmse:1.62428\n",
      "[153]\tvalidation_0-rmse:1.61909\n",
      "[154]\tvalidation_0-rmse:1.61377\n",
      "[155]\tvalidation_0-rmse:1.60852\n",
      "[156]\tvalidation_0-rmse:1.6033\n",
      "[157]\tvalidation_0-rmse:1.59843\n",
      "[158]\tvalidation_0-rmse:1.59369\n",
      "[159]\tvalidation_0-rmse:1.58876\n",
      "[160]\tvalidation_0-rmse:1.58399\n",
      "[161]\tvalidation_0-rmse:1.57937\n",
      "[162]\tvalidation_0-rmse:1.57481\n",
      "[163]\tvalidation_0-rmse:1.57018\n",
      "[164]\tvalidation_0-rmse:1.56566\n",
      "[165]\tvalidation_0-rmse:1.56117\n",
      "[166]\tvalidation_0-rmse:1.55656\n",
      "[167]\tvalidation_0-rmse:1.55235\n",
      "[168]\tvalidation_0-rmse:1.54822\n",
      "[169]\tvalidation_0-rmse:1.5441\n",
      "[170]\tvalidation_0-rmse:1.54\n",
      "[171]\tvalidation_0-rmse:1.53595\n",
      "[172]\tvalidation_0-rmse:1.532\n",
      "[173]\tvalidation_0-rmse:1.52822\n",
      "[174]\tvalidation_0-rmse:1.52438\n",
      "[175]\tvalidation_0-rmse:1.52075\n",
      "[176]\tvalidation_0-rmse:1.51706\n",
      "[177]\tvalidation_0-rmse:1.51328\n",
      "[178]\tvalidation_0-rmse:1.50947\n",
      "[179]\tvalidation_0-rmse:1.5057\n",
      "[180]\tvalidation_0-rmse:1.50245\n",
      "[181]\tvalidation_0-rmse:1.49879\n",
      "[182]\tvalidation_0-rmse:1.49489\n",
      "[183]\tvalidation_0-rmse:1.4918\n",
      "[184]\tvalidation_0-rmse:1.4883\n",
      "[185]\tvalidation_0-rmse:1.48448\n",
      "[186]\tvalidation_0-rmse:1.48087\n",
      "[187]\tvalidation_0-rmse:1.47732\n",
      "[188]\tvalidation_0-rmse:1.47425\n",
      "[189]\tvalidation_0-rmse:1.47116\n",
      "[190]\tvalidation_0-rmse:1.46757\n",
      "[191]\tvalidation_0-rmse:1.46431\n",
      "[192]\tvalidation_0-rmse:1.46107\n",
      "[193]\tvalidation_0-rmse:1.45826\n",
      "[194]\tvalidation_0-rmse:1.4549\n",
      "[195]\tvalidation_0-rmse:1.45211\n",
      "[196]\tvalidation_0-rmse:1.44896\n",
      "[197]\tvalidation_0-rmse:1.44616\n",
      "[198]\tvalidation_0-rmse:1.44369\n",
      "[199]\tvalidation_0-rmse:1.44071\n",
      "[200]\tvalidation_0-rmse:1.43812\n",
      "[201]\tvalidation_0-rmse:1.43511\n",
      "[202]\tvalidation_0-rmse:1.43249\n",
      "[203]\tvalidation_0-rmse:1.42993\n",
      "[204]\tvalidation_0-rmse:1.42737\n",
      "[205]\tvalidation_0-rmse:1.42464\n",
      "[206]\tvalidation_0-rmse:1.42199\n",
      "[207]\tvalidation_0-rmse:1.41987\n",
      "[208]\tvalidation_0-rmse:1.41744\n",
      "[209]\tvalidation_0-rmse:1.4148\n",
      "[210]\tvalidation_0-rmse:1.41228\n",
      "[211]\tvalidation_0-rmse:1.40964\n",
      "[212]\tvalidation_0-rmse:1.40707\n",
      "[213]\tvalidation_0-rmse:1.40458\n",
      "[214]\tvalidation_0-rmse:1.40214\n",
      "[215]\tvalidation_0-rmse:1.39926\n",
      "[216]\tvalidation_0-rmse:1.39688\n",
      "[217]\tvalidation_0-rmse:1.39417\n",
      "[218]\tvalidation_0-rmse:1.39183\n",
      "[219]\tvalidation_0-rmse:1.38969\n",
      "[220]\tvalidation_0-rmse:1.38753\n",
      "[221]\tvalidation_0-rmse:1.38553\n",
      "[222]\tvalidation_0-rmse:1.38302\n",
      "[223]\tvalidation_0-rmse:1.38051\n",
      "[224]\tvalidation_0-rmse:1.37837\n",
      "[225]\tvalidation_0-rmse:1.37599\n",
      "[226]\tvalidation_0-rmse:1.37365\n",
      "[227]\tvalidation_0-rmse:1.37125\n",
      "[228]\tvalidation_0-rmse:1.3692\n",
      "[229]\tvalidation_0-rmse:1.36681\n",
      "[230]\tvalidation_0-rmse:1.3647\n",
      "[231]\tvalidation_0-rmse:1.36242\n",
      "[232]\tvalidation_0-rmse:1.36022\n",
      "[233]\tvalidation_0-rmse:1.35817\n",
      "[234]\tvalidation_0-rmse:1.35617\n",
      "[235]\tvalidation_0-rmse:1.35421\n",
      "[236]\tvalidation_0-rmse:1.35201\n",
      "[237]\tvalidation_0-rmse:1.34993\n",
      "[238]\tvalidation_0-rmse:1.34797\n",
      "[239]\tvalidation_0-rmse:1.34618\n",
      "[240]\tvalidation_0-rmse:1.3441\n",
      "[241]\tvalidation_0-rmse:1.34232\n",
      "[242]\tvalidation_0-rmse:1.34046\n",
      "[243]\tvalidation_0-rmse:1.33875\n",
      "[244]\tvalidation_0-rmse:1.33718\n",
      "[245]\tvalidation_0-rmse:1.33552\n",
      "[246]\tvalidation_0-rmse:1.3337\n",
      "[247]\tvalidation_0-rmse:1.33211\n"
     ]
    },
    {
     "name": "stdout",
     "output_type": "stream",
     "text": [
      "[248]\tvalidation_0-rmse:1.33038\n",
      "[249]\tvalidation_0-rmse:1.32893\n",
      "16389.913560152054  seconds\n"
     ]
    }
   ],
   "source": [
    "tic = time.time()\n",
    "\n",
    "model.fit(x_train.drop(columns=[target_label]), x_train[target_label]\n",
    "         , eval_metric=\"rmse\", eval_set=eval_set, early_stopping_rounds=50, verbose=True)\n",
    "\n",
    "toc = time.time()\n",
    "print(toc - tic,\" seconds\")"
   ]
  },
  {
   "cell_type": "code",
   "execution_count": 24,
   "metadata": {},
   "outputs": [
    {
     "data": {
      "text/plain": [
       "XGBRegressor(base_score=0.5, booster='gbtree', colsample_bylevel=1,\n",
       "       colsample_bynode=1, colsample_bytree=1, gamma=0,\n",
       "       importance_type='gain', learning_rate=0.01, max_delta_step=0,\n",
       "       max_depth=10, min_child_weight=1, missing=None, n_estimators=250,\n",
       "       n_jobs=1, nthread=5, objective='reg:linear', random_state=0,\n",
       "       reg_alpha=0, reg_lambda=1, scale_pos_weight=1, seed=4241,\n",
       "       silent=None, subsample=1, verbosity=1)"
      ]
     },
     "execution_count": 24,
     "metadata": {},
     "output_type": "execute_result"
    }
   ],
   "source": [
    "model"
   ]
  },
  {
   "cell_type": "markdown",
   "metadata": {},
   "source": [
    "# Feature Importance"
   ]
  },
  {
   "cell_type": "code",
   "execution_count": 25,
   "metadata": {},
   "outputs": [],
   "source": [
    "from xgboost import plot_importance"
   ]
  },
  {
   "cell_type": "code",
   "execution_count": 36,
   "metadata": {},
   "outputs": [
    {
     "data": {
      "text/plain": [
       "<matplotlib.axes._subplots.AxesSubplot at 0x7fc7823e1c88>"
      ]
     },
     "execution_count": 36,
     "metadata": {},
     "output_type": "execute_result"
    },
    {
     "data": {
      "image/png": "[encoded data removed]",
      "text/plain": [
       "<Figure size 432x288 with 1 Axes>"
      ]
     },
     "metadata": {
      "needs_background": "light"
     },
     "output_type": "display_data"
    }
   ],
   "source": [
    "plot_importance(model, max_num_features=15, show_values=True)"
   ]
  },
  {
   "cell_type": "markdown",
   "metadata": {},
   "source": [
    "# Prediction"
   ]
  },
  {
   "cell_type": "code",
   "execution_count": 27,
   "metadata": {},
   "outputs": [],
   "source": [
    "predictions = model.predict(x_test.drop(columns=[target_label]))"
   ]
  },
  {
   "cell_type": "code",
   "execution_count": 28,
   "metadata": {},
   "outputs": [],
   "source": [
    "actuals = x_test[target_label]"
   ]
  },
  {
   "cell_type": "markdown",
   "metadata": {},
   "source": [
    "# Performance"
   ]
  },
  {
   "cell_type": "code",
   "execution_count": 29,
   "metadata": {},
   "outputs": [],
   "source": [
    "from sklearn.metrics import mean_absolute_error, mean_squared_error, mean_squared_log_error"
   ]
  },
  {
   "cell_type": "code",
   "execution_count": 31,
   "metadata": {},
   "outputs": [
    {
     "name": "stdout",
     "output_type": "stream",
     "text": [
      "mae:  0.97053593\n",
      "mse:  1.7646412\n"
     ]
    }
   ],
   "source": [
    "from math import sqrt\n",
    "\n",
    "mae = mean_absolute_error(actuals.values, predictions)\n",
    "mse = mean_squared_error(actuals.values, predictions)\n",
    "rmse = sqrt(mse)\n",
    "#msle = mean_squared_log_error(actuals.values, predictions)\n",
    "#rmsle = sqrt(msle)\n",
    "\n",
    "print(\"mae: \", mae)\n",
    "print(\"mse: \", mse)\n",
    "#print(\"rmse:\", rmse)\n",
    "#print(\"rmsle: \", rmsle)"
   ]
  },
  {
   "cell_type": "markdown",
   "metadata": {},
   "source": [
    "# Print Predictions"
   ]
  },
  {
   "cell_type": "code",
   "execution_count": 32,
   "metadata": {},
   "outputs": [],
   "source": [
    "denormalized_predictions = np.expm1(predictions)"
   ]
  },
  {
   "cell_type": "code",
   "execution_count": 33,
   "metadata": {},
   "outputs": [
    {
     "data": {
      "text/html": [
       "<div>\n",
       "<style scoped>\n",
       "    .dataframe tbody tr th:only-of-type {\n",
       "        vertical-align: middle;\n",
       "    }\n",
       "\n",
       "    .dataframe tbody tr th {\n",
       "        vertical-align: top;\n",
       "    }\n",
       "\n",
       "    .dataframe thead th {\n",
       "        text-align: right;\n",
       "    }\n",
       "</style>\n",
       "<table border=\"1\" class=\"dataframe\">\n",
       "  <thead>\n",
       "    <tr style=\"text-align: right;\">\n",
       "      <th></th>\n",
       "      <th>prediction</th>\n",
       "    </tr>\n",
       "  </thead>\n",
       "  <tbody>\n",
       "    <tr>\n",
       "      <th>3032410</th>\n",
       "      <td>8.125707</td>\n",
       "    </tr>\n",
       "    <tr>\n",
       "      <th>3032411</th>\n",
       "      <td>3.377987</td>\n",
       "    </tr>\n",
       "    <tr>\n",
       "      <th>3032412</th>\n",
       "      <td>82.755051</td>\n",
       "    </tr>\n",
       "    <tr>\n",
       "      <th>3032413</th>\n",
       "      <td>40.304890</td>\n",
       "    </tr>\n",
       "    <tr>\n",
       "      <th>3032414</th>\n",
       "      <td>9.669287</td>\n",
       "    </tr>\n",
       "  </tbody>\n",
       "</table>\n",
       "</div>"
      ],
      "text/plain": [
       "         prediction\n",
       "3032410    8.125707\n",
       "3032411    3.377987\n",
       "3032412   82.755051\n",
       "3032413   40.304890\n",
       "3032414    9.669287"
      ]
     },
     "execution_count": 33,
     "metadata": {},
     "output_type": "execute_result"
    }
   ],
   "source": [
    "pd.DataFrame(denormalized_predictions, columns=['prediction']).tail()"
   ]
  },
  {
   "cell_type": "code",
   "execution_count": 34,
   "metadata": {},
   "outputs": [],
   "source": [
    "notebook_toc = time.time()"
   ]
  },
  {
   "cell_type": "code",
   "execution_count": 35,
   "metadata": {},
   "outputs": [
    {
     "name": "stdout",
     "output_type": "stream",
     "text": [
      "notebook completed in  16932.74189543724  seconds\n"
     ]
    }
   ],
   "source": [
    "print(\"notebook completed in \",notebook_toc-notebook_tic,\" seconds\")"
   ]
  }
 ],
 "metadata": {
  "kernelspec": {
   "display_name": "Python 3",
   "language": "python",
   "name": "python3"
  },
  "language_info": {
   "codemirror_mode": {
    "name": "ipython",
    "version": 3
   },
   "file_extension": ".py",
   "mimetype": "text/x-python",
   "name": "python",
   "nbconvert_exporter": "python",
   "pygments_lexer": "ipython3",
   "version": "3.6.4"
  }
 },
 "nbformat": 4,
 "nbformat_minor": 2
}
