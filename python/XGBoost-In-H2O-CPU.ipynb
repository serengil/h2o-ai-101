{
 "cells": [
  {
   "cell_type": "code",
   "execution_count": 1,
   "metadata": {},
   "outputs": [
    {
     "name": "stderr",
     "output_type": "stream",
     "text": [
      "/opt/rh/rh-python36/root/usr/lib64/python3.6/importlib/_bootstrap.py:219: RuntimeWarning: numpy.dtype size changed, may indicate binary incompatibility. Expected 96, got 88\n",
      "  return f(*args, **kwds)\n",
      "/opt/rh/rh-python36/root/usr/lib64/python3.6/importlib/_bootstrap.py:219: RuntimeWarning: numpy.dtype size changed, may indicate binary incompatibility. Expected 96, got 88\n",
      "  return f(*args, **kwds)\n"
     ]
    }
   ],
   "source": [
    "import numpy as np\n",
    "import pandas as pd\n",
    "import datetime\n",
    "import time\n",
    "from sklearn.model_selection import train_test_split\n",
    "from tqdm import tqdm\n",
    "import h2o\n",
    "from h2o.targetencoder import TargetEncoder\n",
    "\n",
    "import os\n",
    "#os.environ[\"CUDA_VISIBLE_DEVICES\"]=\"7\"\n",
    "os.environ[\"CUDA_VISIBLE_DEVICES\"]=\"\""
   ]
  },
  {
   "cell_type": "code",
   "execution_count": 2,
   "metadata": {},
   "outputs": [],
   "source": [
    "notebook_tic = time.time()"
   ]
  },
  {
   "cell_type": "code",
   "execution_count": 3,
   "metadata": {},
   "outputs": [
    {
     "name": "stdout",
     "output_type": "stream",
     "text": [
      "Checking whether there is an H2O instance running at http://127.0.0.1:54321 ..... not found.\n",
      "Attempting to start a local H2O server...\n",
      "  Java Version: openjdk version \"1.8.0_212\"; OpenJDK Runtime Environment (build 1.8.0_212-b04); OpenJDK 64-Bit Server VM (build 25.212-b04, mixed mode)\n",
      "  Starting server from /workspaces/sefik/.local/lib/python3.6/site-packages/h2o/backend/bin/h2o.jar\n",
      "  Ice root: /tmp/tmpixk49g3f\n",
      "  JVM stdout: /tmp/tmpixk49g3f/h2o_sefik_started_from_python.out\n",
      "  JVM stderr: /tmp/tmpixk49g3f/h2o_sefik_started_from_python.err\n",
      "  Server is running at http://127.0.0.1:54321\n",
      "Connecting to H2O server at http://127.0.0.1:54321 ... successful.\n"
     ]
    },
    {
     "data": {
      "text/html": [
       "<div style=\"overflow:auto\"><table style=\"width:50%\"><tr><td>H2O cluster uptime:</td>\n",
       "<td>01 secs</td></tr>\n",
       "<tr><td>H2O cluster timezone:</td>\n",
       "<td>Europe/Istanbul</td></tr>\n",
       "<tr><td>H2O data parsing timezone:</td>\n",
       "<td>UTC</td></tr>\n",
       "<tr><td>H2O cluster version:</td>\n",
       "<td>3.26.0.3</td></tr>\n",
       "<tr><td>H2O cluster version age:</td>\n",
       "<td>2 months and 13 days </td></tr>\n",
       "<tr><td>H2O cluster name:</td>\n",
       "<td>H2O_from_python_sefik_kxcdde</td></tr>\n",
       "<tr><td>H2O cluster total nodes:</td>\n",
       "<td>1</td></tr>\n",
       "<tr><td>H2O cluster free memory:</td>\n",
       "<td>177.8 Gb</td></tr>\n",
       "<tr><td>H2O cluster total cores:</td>\n",
       "<td>72</td></tr>\n",
       "<tr><td>H2O cluster allowed cores:</td>\n",
       "<td>5</td></tr>\n",
       "<tr><td>H2O cluster status:</td>\n",
       "<td>accepting new members, healthy</td></tr>\n",
       "<tr><td>H2O connection url:</td>\n",
       "<td>http://127.0.0.1:54321</td></tr>\n",
       "<tr><td>H2O connection proxy:</td>\n",
       "<td>None</td></tr>\n",
       "<tr><td>H2O internal security:</td>\n",
       "<td>False</td></tr>\n",
       "<tr><td>H2O API Extensions:</td>\n",
       "<td>Amazon S3, XGBoost, Algos, AutoML, Core V3, Core V4</td></tr>\n",
       "<tr><td>Python version:</td>\n",
       "<td>3.6.3 final</td></tr></table></div>"
      ],
      "text/plain": [
       "--------------------------  ---------------------------------------------------\n",
       "H2O cluster uptime:         01 secs\n",
       "H2O cluster timezone:       Europe/Istanbul\n",
       "H2O data parsing timezone:  UTC\n",
       "H2O cluster version:        3.26.0.3\n",
       "H2O cluster version age:    2 months and 13 days\n",
       "H2O cluster name:           H2O_from_python_sefik_kxcdde\n",
       "H2O cluster total nodes:    1\n",
       "H2O cluster free memory:    177.8 Gb\n",
       "H2O cluster total cores:    72\n",
       "H2O cluster allowed cores:  5\n",
       "H2O cluster status:         accepting new members, healthy\n",
       "H2O connection url:         http://127.0.0.1:54321\n",
       "H2O connection proxy:\n",
       "H2O internal security:      False\n",
       "H2O API Extensions:         Amazon S3, XGBoost, Algos, AutoML, Core V3, Core V4\n",
       "Python version:             3.6.3 final\n",
       "--------------------------  ---------------------------------------------------"
      ]
     },
     "metadata": {},
     "output_type": "display_data"
    }
   ],
   "source": [
    "h2o.init(ip=\"127.0.0.1\", max_mem_size_GB = 200, nthreads = 5)"
   ]
  },
  {
   "cell_type": "code",
   "execution_count": 4,
   "metadata": {},
   "outputs": [
    {
     "name": "stdout",
     "output_type": "stream",
     "text": [
      "train loaded\n",
      "metadata loaded\n",
      "train and metadata merged\n",
      "weather loaded\n",
      "train and weather merged\n",
      "17.77210545539856  seconds\n"
     ]
    }
   ],
   "source": [
    "tic = time.time()\n",
    "\n",
    "train = pd.read_csv('train.csv')\n",
    "print(\"train loaded\")\n",
    "metadata = pd.read_csv('building_metadata.csv')\n",
    "print(\"metadata loaded\")\n",
    "train = train.merge(metadata, on=\"building_id\", how=\"left\")\n",
    "print(\"train and metadata merged\")\n",
    "\n",
    "weather = pd.read_csv('weather_train.csv')\n",
    "print(\"weather loaded\")\n",
    "train = train.merge(weather, on=[\"site_id\", \"timestamp\"], how=\"left\")\n",
    "print(\"train and weather merged\")\n",
    "\n",
    "toc = time.time()\n",
    "\n",
    "print(toc - tic,\" seconds\")"
   ]
  },
  {
   "cell_type": "code",
   "execution_count": 5,
   "metadata": {},
   "outputs": [],
   "source": [
    "#very large target causes trouble for rmsle\n",
    "#restore this with np.expm1 in prediction\n",
    "train['meter_reading'] = np.log1p(train['meter_reading']).astype(np.float32)"
   ]
  },
  {
   "cell_type": "code",
   "execution_count": 6,
   "metadata": {},
   "outputs": [
    {
     "name": "stdout",
     "output_type": "stream",
     "text": [
      "Parse progress: |█████████████████████████████████████████████████████████| 100%\n",
      "251.08276844024658  seconds\n"
     ]
    }
   ],
   "source": [
    "tic = time.time()\n",
    "\n",
    "hf_train = h2o.H2OFrame(train) # 4 minutes avg time\n",
    "\n",
    "toc = time.time()\n",
    "print(toc-tic,\" seconds\")"
   ]
  },
  {
   "cell_type": "code",
   "execution_count": 7,
   "metadata": {},
   "outputs": [],
   "source": [
    "target_label = 'meter_reading'"
   ]
  },
  {
   "cell_type": "code",
   "execution_count": 8,
   "metadata": {},
   "outputs": [],
   "source": [
    "#we no longer need to store pandas data frame\n",
    "del train"
   ]
  },
  {
   "cell_type": "code",
   "execution_count": 9,
   "metadata": {},
   "outputs": [
    {
     "data": {
      "text/html": [
       "<table>\n",
       "<thead>\n",
       "<tr><th style=\"text-align: right;\">  building_id</th><th style=\"text-align: right;\">  meter</th><th>timestamp          </th><th style=\"text-align: right;\">  meter_reading</th><th style=\"text-align: right;\">  site_id</th><th>primary_use        </th><th style=\"text-align: right;\">  square_feet</th><th style=\"text-align: right;\">  year_built</th><th style=\"text-align: right;\">  floor_count</th><th style=\"text-align: right;\">  air_temperature</th><th style=\"text-align: right;\">  cloud_coverage</th><th style=\"text-align: right;\">  dew_temperature</th><th style=\"text-align: right;\">  precip_depth_1_hr</th><th style=\"text-align: right;\">  sea_level_pressure</th><th style=\"text-align: right;\">  wind_direction</th><th style=\"text-align: right;\">  wind_speed</th></tr>\n",
       "</thead>\n",
       "<tbody>\n",
       "<tr><td style=\"text-align: right;\">            0</td><td style=\"text-align: right;\">      0</td><td>2016-01-01 00:00:00</td><td style=\"text-align: right;\">              0</td><td style=\"text-align: right;\">        0</td><td>Education          </td><td style=\"text-align: right;\">         7432</td><td style=\"text-align: right;\">        2008</td><td style=\"text-align: right;\">          nan</td><td style=\"text-align: right;\">               25</td><td style=\"text-align: right;\">               6</td><td style=\"text-align: right;\">               20</td><td style=\"text-align: right;\">                nan</td><td style=\"text-align: right;\">              1019.7</td><td style=\"text-align: right;\">               0</td><td style=\"text-align: right;\">           0</td></tr>\n",
       "<tr><td style=\"text-align: right;\">            1</td><td style=\"text-align: right;\">      0</td><td>2016-01-01 00:00:00</td><td style=\"text-align: right;\">              0</td><td style=\"text-align: right;\">        0</td><td>Education          </td><td style=\"text-align: right;\">         2720</td><td style=\"text-align: right;\">        2004</td><td style=\"text-align: right;\">          nan</td><td style=\"text-align: right;\">               25</td><td style=\"text-align: right;\">               6</td><td style=\"text-align: right;\">               20</td><td style=\"text-align: right;\">                nan</td><td style=\"text-align: right;\">              1019.7</td><td style=\"text-align: right;\">               0</td><td style=\"text-align: right;\">           0</td></tr>\n",
       "<tr><td style=\"text-align: right;\">            2</td><td style=\"text-align: right;\">      0</td><td>2016-01-01 00:00:00</td><td style=\"text-align: right;\">              0</td><td style=\"text-align: right;\">        0</td><td>Education          </td><td style=\"text-align: right;\">         5376</td><td style=\"text-align: right;\">        1991</td><td style=\"text-align: right;\">          nan</td><td style=\"text-align: right;\">               25</td><td style=\"text-align: right;\">               6</td><td style=\"text-align: right;\">               20</td><td style=\"text-align: right;\">                nan</td><td style=\"text-align: right;\">              1019.7</td><td style=\"text-align: right;\">               0</td><td style=\"text-align: right;\">           0</td></tr>\n",
       "<tr><td style=\"text-align: right;\">            3</td><td style=\"text-align: right;\">      0</td><td>2016-01-01 00:00:00</td><td style=\"text-align: right;\">              0</td><td style=\"text-align: right;\">        0</td><td>Education          </td><td style=\"text-align: right;\">        23685</td><td style=\"text-align: right;\">        2002</td><td style=\"text-align: right;\">          nan</td><td style=\"text-align: right;\">               25</td><td style=\"text-align: right;\">               6</td><td style=\"text-align: right;\">               20</td><td style=\"text-align: right;\">                nan</td><td style=\"text-align: right;\">              1019.7</td><td style=\"text-align: right;\">               0</td><td style=\"text-align: right;\">           0</td></tr>\n",
       "<tr><td style=\"text-align: right;\">            4</td><td style=\"text-align: right;\">      0</td><td>2016-01-01 00:00:00</td><td style=\"text-align: right;\">              0</td><td style=\"text-align: right;\">        0</td><td>Education          </td><td style=\"text-align: right;\">       116607</td><td style=\"text-align: right;\">        1975</td><td style=\"text-align: right;\">          nan</td><td style=\"text-align: right;\">               25</td><td style=\"text-align: right;\">               6</td><td style=\"text-align: right;\">               20</td><td style=\"text-align: right;\">                nan</td><td style=\"text-align: right;\">              1019.7</td><td style=\"text-align: right;\">               0</td><td style=\"text-align: right;\">           0</td></tr>\n",
       "<tr><td style=\"text-align: right;\">            5</td><td style=\"text-align: right;\">      0</td><td>2016-01-01 00:00:00</td><td style=\"text-align: right;\">              0</td><td style=\"text-align: right;\">        0</td><td>Education          </td><td style=\"text-align: right;\">         8000</td><td style=\"text-align: right;\">        2000</td><td style=\"text-align: right;\">          nan</td><td style=\"text-align: right;\">               25</td><td style=\"text-align: right;\">               6</td><td style=\"text-align: right;\">               20</td><td style=\"text-align: right;\">                nan</td><td style=\"text-align: right;\">              1019.7</td><td style=\"text-align: right;\">               0</td><td style=\"text-align: right;\">           0</td></tr>\n",
       "<tr><td style=\"text-align: right;\">            6</td><td style=\"text-align: right;\">      0</td><td>2016-01-01 00:00:00</td><td style=\"text-align: right;\">              0</td><td style=\"text-align: right;\">        0</td><td>Lodging/residential</td><td style=\"text-align: right;\">        27926</td><td style=\"text-align: right;\">        1981</td><td style=\"text-align: right;\">          nan</td><td style=\"text-align: right;\">               25</td><td style=\"text-align: right;\">               6</td><td style=\"text-align: right;\">               20</td><td style=\"text-align: right;\">                nan</td><td style=\"text-align: right;\">              1019.7</td><td style=\"text-align: right;\">               0</td><td style=\"text-align: right;\">           0</td></tr>\n",
       "<tr><td style=\"text-align: right;\">            7</td><td style=\"text-align: right;\">      0</td><td>2016-01-01 00:00:00</td><td style=\"text-align: right;\">              0</td><td style=\"text-align: right;\">        0</td><td>Education          </td><td style=\"text-align: right;\">       121074</td><td style=\"text-align: right;\">        1989</td><td style=\"text-align: right;\">          nan</td><td style=\"text-align: right;\">               25</td><td style=\"text-align: right;\">               6</td><td style=\"text-align: right;\">               20</td><td style=\"text-align: right;\">                nan</td><td style=\"text-align: right;\">              1019.7</td><td style=\"text-align: right;\">               0</td><td style=\"text-align: right;\">           0</td></tr>\n",
       "<tr><td style=\"text-align: right;\">            8</td><td style=\"text-align: right;\">      0</td><td>2016-01-01 00:00:00</td><td style=\"text-align: right;\">              0</td><td style=\"text-align: right;\">        0</td><td>Education          </td><td style=\"text-align: right;\">        60809</td><td style=\"text-align: right;\">        2003</td><td style=\"text-align: right;\">          nan</td><td style=\"text-align: right;\">               25</td><td style=\"text-align: right;\">               6</td><td style=\"text-align: right;\">               20</td><td style=\"text-align: right;\">                nan</td><td style=\"text-align: right;\">              1019.7</td><td style=\"text-align: right;\">               0</td><td style=\"text-align: right;\">           0</td></tr>\n",
       "<tr><td style=\"text-align: right;\">            9</td><td style=\"text-align: right;\">      0</td><td>2016-01-01 00:00:00</td><td style=\"text-align: right;\">              0</td><td style=\"text-align: right;\">        0</td><td>Office             </td><td style=\"text-align: right;\">        27000</td><td style=\"text-align: right;\">        2010</td><td style=\"text-align: right;\">          nan</td><td style=\"text-align: right;\">               25</td><td style=\"text-align: right;\">               6</td><td style=\"text-align: right;\">               20</td><td style=\"text-align: right;\">                nan</td><td style=\"text-align: right;\">              1019.7</td><td style=\"text-align: right;\">               0</td><td style=\"text-align: right;\">           0</td></tr>\n",
       "</tbody>\n",
       "</table>"
      ]
     },
     "metadata": {},
     "output_type": "display_data"
    },
    {
     "data": {
      "text/plain": []
     },
     "execution_count": 9,
     "metadata": {},
     "output_type": "execute_result"
    }
   ],
   "source": [
    "hf_train.head()"
   ]
  },
  {
   "cell_type": "markdown",
   "metadata": {},
   "source": [
    "# Expand features"
   ]
  },
  {
   "cell_type": "code",
   "execution_count": 10,
   "metadata": {},
   "outputs": [],
   "source": [
    "def expandFeatures(df):\n",
    "    df['year'] = df['timestamp'].year()\n",
    "    df['month'] = df['timestamp'].month()\n",
    "    df['day'] = df['timestamp'].day()\n",
    "    df['hour'] = df['timestamp'].hour()\n",
    "    df['weekday'] = df['timestamp'].dayOfWeek()\n",
    "    \n",
    "    #-------------------------------\n",
    "    \n",
    "    df['square_feet'] = df['square_feet'].log()\n",
    "    \n",
    "    df['year_built'] = df['year_built'].asnumeric()\n",
    "    df['year_built'] = df[df['year_built'] >= 0]['year_built'].max() - df['year_built']\n",
    "    \n",
    "    df['sea_level_pressure'] = df['sea_level_pressure']- df[df['sea_level_pressure'] >= 0]['sea_level_pressure'].min()\n",
    "    \n",
    "    #-------------------------------\n",
    "    \n",
    "    df = df.drop('timestamp')\n",
    "    \n",
    "    return df"
   ]
  },
  {
   "cell_type": "code",
   "execution_count": 11,
   "metadata": {},
   "outputs": [
    {
     "name": "stdout",
     "output_type": "stream",
     "text": [
      "Features expanded for train ( 9.881179571151733  seconds)\n"
     ]
    }
   ],
   "source": [
    "tic = time.time()\n",
    "hf_train = expandFeatures(hf_train)\n",
    "toc = time.time()\n",
    "print(\"Features expanded for train (\",toc-tic,\" seconds)\")"
   ]
  },
  {
   "cell_type": "code",
   "execution_count": 12,
   "metadata": {},
   "outputs": [
    {
     "data": {
      "text/plain": [
       "(20216100, 20)"
      ]
     },
     "execution_count": 12,
     "metadata": {},
     "output_type": "execute_result"
    }
   ],
   "source": [
    "hf_train.shape"
   ]
  },
  {
   "cell_type": "code",
   "execution_count": 13,
   "metadata": {},
   "outputs": [],
   "source": [
    "categorical_features = ['meter', 'primary_use', 'site_id'\n",
    "                        #, 'building_id'\n",
    "                       ]"
   ]
  },
  {
   "cell_type": "code",
   "execution_count": 14,
   "metadata": {},
   "outputs": [],
   "source": [
    "#for key, col_type in hf_train.types.items():\n",
    "for key in hf_train.types:\n",
    "    col_type = hf_train.types[key]\n",
    "    if key in categorical_features:\n",
    "        hf_train[key] = hf_train[key].asfactor()\n",
    "    else:\n",
    "        hf_train[key] = hf_train[key].asnumeric()"
   ]
  },
  {
   "cell_type": "code",
   "execution_count": 15,
   "metadata": {},
   "outputs": [
    {
     "name": "stdout",
     "output_type": "stream",
     "text": [
      "Rows:20216100\n",
      "Cols:20\n",
      "\n",
      "\n"
     ]
    },
    {
     "data": {
      "text/html": [
       "<table>\n",
       "<thead>\n",
       "<tr><th>       </th><th>building_id      </th><th>meter  </th><th>meter_reading     </th><th>site_id  </th><th>primary_use        </th><th>square_feet       </th><th>year_built        </th><th>floor_count       </th><th>air_temperature   </th><th>cloud_coverage   </th><th>dew_temperature   </th><th>precip_depth_1_hr  </th><th>sea_level_pressure  </th><th>wind_direction    </th><th>wind_speed        </th><th>year  </th><th>month             </th><th>day               </th><th>hour             </th><th>weekday           </th></tr>\n",
       "</thead>\n",
       "<tbody>\n",
       "<tr><td>type   </td><td>int              </td><td>enum   </td><td>real              </td><td>enum     </td><td>enum               </td><td>real              </td><td>int               </td><td>int               </td><td>real              </td><td>int              </td><td>real              </td><td>int                </td><td>real                </td><td>int               </td><td>real              </td><td>int   </td><td>int               </td><td>int               </td><td>int              </td><td>int               </td></tr>\n",
       "<tr><td>mins   </td><td>0.0              </td><td>       </td><td>0.0               </td><td>         </td><td>                   </td><td>5.645446897643238 </td><td>0.0               </td><td>0.0               </td><td>-28.9             </td><td>0.0              </td><td>-35.0             </td><td>-1.0               </td><td>0.0                 </td><td>0.0               </td><td>0.0               </td><td>2016.0</td><td>1.0               </td><td>1.0               </td><td>0.0              </td><td>0.0               </td></tr>\n",
       "<tr><td>mean   </td><td>799.2780003561518</td><td>       </td><td>4.145765666717879 </td><td>         </td><td>                   </td><td>11.03941325515514 </td><td>19.806972660404327</td><td>16.275637684815578</td><td>15.987952737456638</td><td>5.436303886506298</td><td>7.747429309861423 </td><td>0.796415538714005  </td><td>47.88548737120429   </td><td>173.0151039172268 </td><td>3.3775245829801133</td><td>2016.0</td><td>6.5784530646366015</td><td>15.761227041813209</td><td>11.50231755877741</td><td>3.00695762288473  </td></tr>\n",
       "<tr><td>maxs   </td><td>1448.0           </td><td>       </td><td>16.902212142944336</td><td>         </td><td>                   </td><td>13.681979165339751</td><td>116.0             </td><td>18.0              </td><td>47.2              </td><td>10.0             </td><td>26.1              </td><td>343.0              </td><td>77.29999999999995   </td><td>360.0             </td><td>19.0              </td><td>2016.0</td><td>12.0              </td><td>31.0              </td><td>23.0             </td><td>6.0               </td></tr>\n",
       "<tr><td>sigma  </td><td>426.9133090350083</td><td>       </td><td>2.146220046542852 </td><td>         </td><td>                   </td><td>1.180525124823705 </td><td>30.74401289346902 </td><td>4.458282278362877 </td><td>10.947292617476561</td><td>4.403410359072409</td><td>10.178666840106992</td><td>7.468996644451527  </td><td>7.060539185923556   </td><td>114.05736420869192</td><td>2.2656939441528188</td><td>0.0   </td><td>3.436661773246548 </td><td>8.820534618755353 </td><td>6.922017339280046</td><td>1.9971914946353297</td></tr>\n",
       "<tr><td>zeros  </td><td>8784             </td><td>       </td><td>1873976           </td><td>         </td><td>                   </td><td>0                 </td><td>12127645          </td><td>934303            </td><td>141477            </td><td>5752501          </td><td>331655            </td><td>14517573           </td><td>35                  </td><td>2373540           </td><td>2384761           </td><td>0     </td><td>0                 </td><td>0                 </td><td>842381           </td><td>2871227           </td></tr>\n",
       "<tr><td>missing</td><td>0                </td><td>0      </td><td>0                 </td><td>0        </td><td>0                  </td><td>0                 </td><td>0                 </td><td>0                 </td><td>96658             </td><td>0                </td><td>100140            </td><td>3749023            </td><td>1231669             </td><td>1449048           </td><td>143676            </td><td>0     </td><td>0                 </td><td>0                 </td><td>0                </td><td>0                 </td></tr>\n",
       "<tr><td>0      </td><td>0.0              </td><td>0      </td><td>0.0               </td><td>0        </td><td>Education          </td><td>8.913550280493675 </td><td>10.0              </td><td>18.0              </td><td>25.0              </td><td>6.0              </td><td>20.0              </td><td>nan                </td><td>51.5                </td><td>0.0               </td><td>0.0               </td><td>2016.0</td><td>1.0               </td><td>1.0               </td><td>0.0              </td><td>4.0               </td></tr>\n",
       "<tr><td>1      </td><td>1.0              </td><td>0      </td><td>0.0               </td><td>0        </td><td>Education          </td><td>7.908387159290043 </td><td>14.0              </td><td>18.0              </td><td>25.0              </td><td>6.0              </td><td>20.0              </td><td>nan                </td><td>51.5                </td><td>0.0               </td><td>0.0               </td><td>2016.0</td><td>1.0               </td><td>1.0               </td><td>0.0              </td><td>4.0               </td></tr>\n",
       "<tr><td>2      </td><td>2.0              </td><td>0      </td><td>0.0               </td><td>0        </td><td>Education          </td><td>8.589699882202986 </td><td>27.0              </td><td>18.0              </td><td>25.0              </td><td>6.0              </td><td>20.0              </td><td>nan                </td><td>51.5                </td><td>0.0               </td><td>0.0               </td><td>2016.0</td><td>1.0               </td><td>1.0               </td><td>0.0              </td><td>4.0               </td></tr>\n",
       "<tr><td>3      </td><td>3.0              </td><td>0      </td><td>0.0               </td><td>0        </td><td>Education          </td><td>10.072597215357852</td><td>16.0              </td><td>18.0              </td><td>25.0              </td><td>6.0              </td><td>20.0              </td><td>nan                </td><td>51.5                </td><td>0.0               </td><td>0.0               </td><td>2016.0</td><td>1.0               </td><td>1.0               </td><td>0.0              </td><td>4.0               </td></tr>\n",
       "<tr><td>4      </td><td>4.0              </td><td>0      </td><td>0.0               </td><td>0        </td><td>Education          </td><td>11.66656458540186 </td><td>43.0              </td><td>18.0              </td><td>25.0              </td><td>6.0              </td><td>20.0              </td><td>nan                </td><td>51.5                </td><td>0.0               </td><td>0.0               </td><td>2016.0</td><td>1.0               </td><td>1.0               </td><td>0.0              </td><td>4.0               </td></tr>\n",
       "<tr><td>5      </td><td>5.0              </td><td>0      </td><td>0.0               </td><td>0        </td><td>Education          </td><td>8.987196820661973 </td><td>18.0              </td><td>18.0              </td><td>25.0              </td><td>6.0              </td><td>20.0              </td><td>nan                </td><td>51.5                </td><td>0.0               </td><td>0.0               </td><td>2016.0</td><td>1.0               </td><td>1.0               </td><td>0.0              </td><td>4.0               </td></tr>\n",
       "<tr><td>6      </td><td>6.0              </td><td>0      </td><td>0.0               </td><td>0        </td><td>Lodging/residential</td><td>10.23731343350214 </td><td>37.0              </td><td>18.0              </td><td>25.0              </td><td>6.0              </td><td>20.0              </td><td>nan                </td><td>51.5                </td><td>0.0               </td><td>0.0               </td><td>2016.0</td><td>1.0               </td><td>1.0               </td><td>0.0              </td><td>4.0               </td></tr>\n",
       "<tr><td>7      </td><td>7.0              </td><td>0      </td><td>0.0               </td><td>0        </td><td>Education          </td><td>11.704157207893939</td><td>29.0              </td><td>18.0              </td><td>25.0              </td><td>6.0              </td><td>20.0              </td><td>nan                </td><td>51.5                </td><td>0.0               </td><td>0.0               </td><td>2016.0</td><td>1.0               </td><td>1.0               </td><td>0.0              </td><td>4.0               </td></tr>\n",
       "<tr><td>8      </td><td>8.0              </td><td>0      </td><td>0.0               </td><td>0        </td><td>Education          </td><td>11.015493083315233</td><td>15.0              </td><td>18.0              </td><td>25.0              </td><td>6.0              </td><td>20.0              </td><td>nan                </td><td>51.5                </td><td>0.0               </td><td>0.0               </td><td>2016.0</td><td>1.0               </td><td>1.0               </td><td>0.0              </td><td>4.0               </td></tr>\n",
       "<tr><td>9      </td><td>9.0              </td><td>0      </td><td>0.0               </td><td>0        </td><td>Office             </td><td>10.203592144986466</td><td>8.0               </td><td>18.0              </td><td>25.0              </td><td>6.0              </td><td>20.0              </td><td>nan                </td><td>51.5                </td><td>0.0               </td><td>0.0               </td><td>2016.0</td><td>1.0               </td><td>1.0               </td><td>0.0              </td><td>4.0               </td></tr>\n",
       "</tbody>\n",
       "</table>"
      ]
     },
     "metadata": {},
     "output_type": "display_data"
    }
   ],
   "source": [
    "hf_train.describe()"
   ]
  },
  {
   "cell_type": "code",
   "execution_count": 16,
   "metadata": {},
   "outputs": [],
   "source": [
    "feature_names = []\n",
    "\n",
    "for i in hf_train.columns:\n",
    "    if i != target_label:\n",
    "        feature_names.append(i)"
   ]
  },
  {
   "cell_type": "code",
   "execution_count": 17,
   "metadata": {},
   "outputs": [
    {
     "data": {
      "text/html": [
       "<table>\n",
       "<thead>\n",
       "<tr><th style=\"text-align: right;\">  building_id</th><th style=\"text-align: right;\">  meter</th><th style=\"text-align: right;\">  meter_reading</th><th style=\"text-align: right;\">  site_id</th><th>primary_use        </th><th style=\"text-align: right;\">  square_feet</th><th style=\"text-align: right;\">  year_built</th><th style=\"text-align: right;\">  floor_count</th><th style=\"text-align: right;\">  air_temperature</th><th style=\"text-align: right;\">  cloud_coverage</th><th style=\"text-align: right;\">  dew_temperature</th><th style=\"text-align: right;\">  precip_depth_1_hr</th><th style=\"text-align: right;\">  sea_level_pressure</th><th style=\"text-align: right;\">  wind_direction</th><th style=\"text-align: right;\">  wind_speed</th><th style=\"text-align: right;\">  year</th><th style=\"text-align: right;\">  month</th><th style=\"text-align: right;\">  day</th><th style=\"text-align: right;\">  hour</th><th style=\"text-align: right;\">  weekday</th></tr>\n",
       "</thead>\n",
       "<tbody>\n",
       "<tr><td style=\"text-align: right;\">            0</td><td style=\"text-align: right;\">      0</td><td style=\"text-align: right;\">              0</td><td style=\"text-align: right;\">        0</td><td>Education          </td><td style=\"text-align: right;\">      8.91355</td><td style=\"text-align: right;\">          10</td><td style=\"text-align: right;\">           18</td><td style=\"text-align: right;\">               25</td><td style=\"text-align: right;\">               6</td><td style=\"text-align: right;\">               20</td><td style=\"text-align: right;\">                nan</td><td style=\"text-align: right;\">                51.5</td><td style=\"text-align: right;\">               0</td><td style=\"text-align: right;\">           0</td><td style=\"text-align: right;\">  2016</td><td style=\"text-align: right;\">      1</td><td style=\"text-align: right;\">    1</td><td style=\"text-align: right;\">     0</td><td style=\"text-align: right;\">        4</td></tr>\n",
       "<tr><td style=\"text-align: right;\">            1</td><td style=\"text-align: right;\">      0</td><td style=\"text-align: right;\">              0</td><td style=\"text-align: right;\">        0</td><td>Education          </td><td style=\"text-align: right;\">      7.90839</td><td style=\"text-align: right;\">          14</td><td style=\"text-align: right;\">           18</td><td style=\"text-align: right;\">               25</td><td style=\"text-align: right;\">               6</td><td style=\"text-align: right;\">               20</td><td style=\"text-align: right;\">                nan</td><td style=\"text-align: right;\">                51.5</td><td style=\"text-align: right;\">               0</td><td style=\"text-align: right;\">           0</td><td style=\"text-align: right;\">  2016</td><td style=\"text-align: right;\">      1</td><td style=\"text-align: right;\">    1</td><td style=\"text-align: right;\">     0</td><td style=\"text-align: right;\">        4</td></tr>\n",
       "<tr><td style=\"text-align: right;\">            2</td><td style=\"text-align: right;\">      0</td><td style=\"text-align: right;\">              0</td><td style=\"text-align: right;\">        0</td><td>Education          </td><td style=\"text-align: right;\">      8.5897 </td><td style=\"text-align: right;\">          27</td><td style=\"text-align: right;\">           18</td><td style=\"text-align: right;\">               25</td><td style=\"text-align: right;\">               6</td><td style=\"text-align: right;\">               20</td><td style=\"text-align: right;\">                nan</td><td style=\"text-align: right;\">                51.5</td><td style=\"text-align: right;\">               0</td><td style=\"text-align: right;\">           0</td><td style=\"text-align: right;\">  2016</td><td style=\"text-align: right;\">      1</td><td style=\"text-align: right;\">    1</td><td style=\"text-align: right;\">     0</td><td style=\"text-align: right;\">        4</td></tr>\n",
       "<tr><td style=\"text-align: right;\">            3</td><td style=\"text-align: right;\">      0</td><td style=\"text-align: right;\">              0</td><td style=\"text-align: right;\">        0</td><td>Education          </td><td style=\"text-align: right;\">     10.0726 </td><td style=\"text-align: right;\">          16</td><td style=\"text-align: right;\">           18</td><td style=\"text-align: right;\">               25</td><td style=\"text-align: right;\">               6</td><td style=\"text-align: right;\">               20</td><td style=\"text-align: right;\">                nan</td><td style=\"text-align: right;\">                51.5</td><td style=\"text-align: right;\">               0</td><td style=\"text-align: right;\">           0</td><td style=\"text-align: right;\">  2016</td><td style=\"text-align: right;\">      1</td><td style=\"text-align: right;\">    1</td><td style=\"text-align: right;\">     0</td><td style=\"text-align: right;\">        4</td></tr>\n",
       "<tr><td style=\"text-align: right;\">            4</td><td style=\"text-align: right;\">      0</td><td style=\"text-align: right;\">              0</td><td style=\"text-align: right;\">        0</td><td>Education          </td><td style=\"text-align: right;\">     11.6666 </td><td style=\"text-align: right;\">          43</td><td style=\"text-align: right;\">           18</td><td style=\"text-align: right;\">               25</td><td style=\"text-align: right;\">               6</td><td style=\"text-align: right;\">               20</td><td style=\"text-align: right;\">                nan</td><td style=\"text-align: right;\">                51.5</td><td style=\"text-align: right;\">               0</td><td style=\"text-align: right;\">           0</td><td style=\"text-align: right;\">  2016</td><td style=\"text-align: right;\">      1</td><td style=\"text-align: right;\">    1</td><td style=\"text-align: right;\">     0</td><td style=\"text-align: right;\">        4</td></tr>\n",
       "<tr><td style=\"text-align: right;\">            5</td><td style=\"text-align: right;\">      0</td><td style=\"text-align: right;\">              0</td><td style=\"text-align: right;\">        0</td><td>Education          </td><td style=\"text-align: right;\">      8.9872 </td><td style=\"text-align: right;\">          18</td><td style=\"text-align: right;\">           18</td><td style=\"text-align: right;\">               25</td><td style=\"text-align: right;\">               6</td><td style=\"text-align: right;\">               20</td><td style=\"text-align: right;\">                nan</td><td style=\"text-align: right;\">                51.5</td><td style=\"text-align: right;\">               0</td><td style=\"text-align: right;\">           0</td><td style=\"text-align: right;\">  2016</td><td style=\"text-align: right;\">      1</td><td style=\"text-align: right;\">    1</td><td style=\"text-align: right;\">     0</td><td style=\"text-align: right;\">        4</td></tr>\n",
       "<tr><td style=\"text-align: right;\">            6</td><td style=\"text-align: right;\">      0</td><td style=\"text-align: right;\">              0</td><td style=\"text-align: right;\">        0</td><td>Lodging/residential</td><td style=\"text-align: right;\">     10.2373 </td><td style=\"text-align: right;\">          37</td><td style=\"text-align: right;\">           18</td><td style=\"text-align: right;\">               25</td><td style=\"text-align: right;\">               6</td><td style=\"text-align: right;\">               20</td><td style=\"text-align: right;\">                nan</td><td style=\"text-align: right;\">                51.5</td><td style=\"text-align: right;\">               0</td><td style=\"text-align: right;\">           0</td><td style=\"text-align: right;\">  2016</td><td style=\"text-align: right;\">      1</td><td style=\"text-align: right;\">    1</td><td style=\"text-align: right;\">     0</td><td style=\"text-align: right;\">        4</td></tr>\n",
       "<tr><td style=\"text-align: right;\">            7</td><td style=\"text-align: right;\">      0</td><td style=\"text-align: right;\">              0</td><td style=\"text-align: right;\">        0</td><td>Education          </td><td style=\"text-align: right;\">     11.7042 </td><td style=\"text-align: right;\">          29</td><td style=\"text-align: right;\">           18</td><td style=\"text-align: right;\">               25</td><td style=\"text-align: right;\">               6</td><td style=\"text-align: right;\">               20</td><td style=\"text-align: right;\">                nan</td><td style=\"text-align: right;\">                51.5</td><td style=\"text-align: right;\">               0</td><td style=\"text-align: right;\">           0</td><td style=\"text-align: right;\">  2016</td><td style=\"text-align: right;\">      1</td><td style=\"text-align: right;\">    1</td><td style=\"text-align: right;\">     0</td><td style=\"text-align: right;\">        4</td></tr>\n",
       "<tr><td style=\"text-align: right;\">            8</td><td style=\"text-align: right;\">      0</td><td style=\"text-align: right;\">              0</td><td style=\"text-align: right;\">        0</td><td>Education          </td><td style=\"text-align: right;\">     11.0155 </td><td style=\"text-align: right;\">          15</td><td style=\"text-align: right;\">           18</td><td style=\"text-align: right;\">               25</td><td style=\"text-align: right;\">               6</td><td style=\"text-align: right;\">               20</td><td style=\"text-align: right;\">                nan</td><td style=\"text-align: right;\">                51.5</td><td style=\"text-align: right;\">               0</td><td style=\"text-align: right;\">           0</td><td style=\"text-align: right;\">  2016</td><td style=\"text-align: right;\">      1</td><td style=\"text-align: right;\">    1</td><td style=\"text-align: right;\">     0</td><td style=\"text-align: right;\">        4</td></tr>\n",
       "<tr><td style=\"text-align: right;\">            9</td><td style=\"text-align: right;\">      0</td><td style=\"text-align: right;\">              0</td><td style=\"text-align: right;\">        0</td><td>Office             </td><td style=\"text-align: right;\">     10.2036 </td><td style=\"text-align: right;\">           8</td><td style=\"text-align: right;\">           18</td><td style=\"text-align: right;\">               25</td><td style=\"text-align: right;\">               6</td><td style=\"text-align: right;\">               20</td><td style=\"text-align: right;\">                nan</td><td style=\"text-align: right;\">                51.5</td><td style=\"text-align: right;\">               0</td><td style=\"text-align: right;\">           0</td><td style=\"text-align: right;\">  2016</td><td style=\"text-align: right;\">      1</td><td style=\"text-align: right;\">    1</td><td style=\"text-align: right;\">     0</td><td style=\"text-align: right;\">        4</td></tr>\n",
       "</tbody>\n",
       "</table>"
      ]
     },
     "metadata": {},
     "output_type": "display_data"
    },
    {
     "data": {
      "text/plain": []
     },
     "execution_count": 17,
     "metadata": {},
     "output_type": "execute_result"
    }
   ],
   "source": [
    "hf_train.head()"
   ]
  },
  {
   "cell_type": "markdown",
   "metadata": {},
   "source": [
    "# Train Test and Validation Split"
   ]
  },
  {
   "cell_type": "code",
   "execution_count": 18,
   "metadata": {},
   "outputs": [
    {
     "name": "stdout",
     "output_type": "stream",
     "text": [
      "5.445780277252197  seconds\n"
     ]
    }
   ],
   "source": [
    "#70% train, 15% test, 15% validation\n",
    "tic = time.time()\n",
    "train, test, validation = hf_train.split_frame(ratios=[0.70, 0.15], seed=17)\n",
    "toc = time.time()\n",
    "\n",
    "print(toc -tic,\" seconds\")"
   ]
  },
  {
   "cell_type": "markdown",
   "metadata": {},
   "source": [
    "# H2O XGBoost"
   ]
  },
  {
   "cell_type": "code",
   "execution_count": 19,
   "metadata": {},
   "outputs": [],
   "source": [
    "from h2o.estimators.xgboost import H2OXGBoostEstimator"
   ]
  },
  {
   "cell_type": "code",
   "execution_count": 20,
   "metadata": {},
   "outputs": [],
   "source": [
    "model = H2OXGBoostEstimator(\n",
    "    ntrees = 250\n",
    "    , max_depth = 10\n",
    "    , learn_rate = 0.01\n",
    "    , seed = 4241\n",
    "    , stopping_rounds = 50\n",
    "    , stopping_metric = \"RMSE\"\n",
    ")"
   ]
  },
  {
   "cell_type": "code",
   "execution_count": 21,
   "metadata": {},
   "outputs": [
    {
     "name": "stdout",
     "output_type": "stream",
     "text": [
      "xgboost Model Build progress: |███████████████████████████████████████████| 100%\n",
      "10412.614832401276  seconds\n"
     ]
    }
   ],
   "source": [
    "tic = time.time()\n",
    "\n",
    "model.train(x=feature_names, y=target_label\n",
    "          , training_frame=train, validation_frame = validation)\n",
    "\n",
    "toc = time.time()\n",
    "\n",
    "print(toc-tic,\" seconds\")"
   ]
  },
  {
   "cell_type": "code",
   "execution_count": 22,
   "metadata": {
    "scrolled": true
   },
   "outputs": [
    {
     "name": "stdout",
     "output_type": "stream",
     "text": [
      "Model Details\n",
      "=============\n",
      "H2OXGBoostEstimator :  XGBoost\n",
      "Model Key:  XGBoost_model_python_1573067569853_1\n",
      "\n",
      "\n",
      "Model Summary: "
     ]
    },
    {
     "data": {
      "text/html": [
       "<div>\n",
       "<style scoped>\n",
       "    .dataframe tbody tr th:only-of-type {\n",
       "        vertical-align: middle;\n",
       "    }\n",
       "\n",
       "    .dataframe tbody tr th {\n",
       "        vertical-align: top;\n",
       "    }\n",
       "\n",
       "    .dataframe thead th {\n",
       "        text-align: right;\n",
       "    }\n",
       "</style>\n",
       "<table border=\"1\" class=\"dataframe\">\n",
       "  <thead>\n",
       "    <tr style=\"text-align: right;\">\n",
       "      <th></th>\n",
       "      <th></th>\n",
       "      <th>number_of_trees</th>\n",
       "    </tr>\n",
       "  </thead>\n",
       "  <tbody>\n",
       "    <tr>\n",
       "      <th>0</th>\n",
       "      <td></td>\n",
       "      <td>250.0</td>\n",
       "    </tr>\n",
       "  </tbody>\n",
       "</table>\n",
       "</div>"
      ],
      "text/plain": [
       "     number_of_trees\n",
       "0              250.0"
      ]
     },
     "metadata": {},
     "output_type": "display_data"
    },
    {
     "name": "stdout",
     "output_type": "stream",
     "text": [
      "\n",
      "\n",
      "ModelMetricsRegression: xgboost\n",
      "** Reported on train data. **\n",
      "\n",
      "MSE: 1.5589791865952694\n",
      "RMSE: 1.2485908803908785\n",
      "MAE: 0.9150517012081869\n",
      "RMSLE: 0.3978208071100528\n",
      "Mean Residual Deviance: 1.5589791865952694\n",
      "\n",
      "ModelMetricsRegression: xgboost\n",
      "** Reported on validation data. **\n",
      "\n",
      "MSE: 1.5617753334465783\n",
      "RMSE: 1.249710099761772\n",
      "MAE: 0.9153813392604525\n",
      "RMSLE: 0.398157805052336\n",
      "Mean Residual Deviance: 1.5617753334465783\n",
      "\n",
      "Scoring History: "
     ]
    },
    {
     "data": {
      "text/html": [
       "<div>\n",
       "<style scoped>\n",
       "    .dataframe tbody tr th:only-of-type {\n",
       "        vertical-align: middle;\n",
       "    }\n",
       "\n",
       "    .dataframe tbody tr th {\n",
       "        vertical-align: top;\n",
       "    }\n",
       "\n",
       "    .dataframe thead th {\n",
       "        text-align: right;\n",
       "    }\n",
       "</style>\n",
       "<table border=\"1\" class=\"dataframe\">\n",
       "  <thead>\n",
       "    <tr style=\"text-align: right;\">\n",
       "      <th></th>\n",
       "      <th></th>\n",
       "      <th>timestamp</th>\n",
       "      <th>duration</th>\n",
       "      <th>number_of_trees</th>\n",
       "      <th>training_rmse</th>\n",
       "      <th>training_mae</th>\n",
       "      <th>training_deviance</th>\n",
       "      <th>validation_rmse</th>\n",
       "      <th>validation_mae</th>\n",
       "      <th>validation_deviance</th>\n",
       "    </tr>\n",
       "  </thead>\n",
       "  <tbody>\n",
       "    <tr>\n",
       "      <th>0</th>\n",
       "      <td></td>\n",
       "      <td>2019-11-06 22:17:39</td>\n",
       "      <td>0.408 sec</td>\n",
       "      <td>0.0</td>\n",
       "      <td>4.230700</td>\n",
       "      <td>3.745262</td>\n",
       "      <td>17.898820</td>\n",
       "      <td>4.230314</td>\n",
       "      <td>3.745079</td>\n",
       "      <td>17.895554</td>\n",
       "    </tr>\n",
       "    <tr>\n",
       "      <th>1</th>\n",
       "      <td></td>\n",
       "      <td>2019-11-06 22:18:52</td>\n",
       "      <td>1 min 13.415 sec</td>\n",
       "      <td>1.0</td>\n",
       "      <td>4.193614</td>\n",
       "      <td>3.713090</td>\n",
       "      <td>17.586396</td>\n",
       "      <td>4.193231</td>\n",
       "      <td>3.712914</td>\n",
       "      <td>17.583182</td>\n",
       "    </tr>\n",
       "    <tr>\n",
       "      <th>2</th>\n",
       "      <td></td>\n",
       "      <td>2019-11-06 22:19:35</td>\n",
       "      <td>1 min 55.776 sec</td>\n",
       "      <td>2.0</td>\n",
       "      <td>4.156881</td>\n",
       "      <td>3.681312</td>\n",
       "      <td>17.279660</td>\n",
       "      <td>4.156504</td>\n",
       "      <td>3.681143</td>\n",
       "      <td>17.276529</td>\n",
       "    </tr>\n",
       "    <tr>\n",
       "      <th>3</th>\n",
       "      <td></td>\n",
       "      <td>2019-11-06 22:20:16</td>\n",
       "      <td>2 min 36.794 sec</td>\n",
       "      <td>3.0</td>\n",
       "      <td>4.120610</td>\n",
       "      <td>3.649801</td>\n",
       "      <td>16.979427</td>\n",
       "      <td>4.120238</td>\n",
       "      <td>3.649640</td>\n",
       "      <td>16.976357</td>\n",
       "    </tr>\n",
       "    <tr>\n",
       "      <th>4</th>\n",
       "      <td></td>\n",
       "      <td>2019-11-06 22:21:00</td>\n",
       "      <td>3 min 20.866 sec</td>\n",
       "      <td>4.0</td>\n",
       "      <td>4.084743</td>\n",
       "      <td>3.618614</td>\n",
       "      <td>16.685126</td>\n",
       "      <td>4.084376</td>\n",
       "      <td>3.618460</td>\n",
       "      <td>16.682123</td>\n",
       "    </tr>\n",
       "    <tr>\n",
       "      <th>5</th>\n",
       "      <td></td>\n",
       "      <td>2019-11-06 22:21:42</td>\n",
       "      <td>4 min  2.975 sec</td>\n",
       "      <td>5.0</td>\n",
       "      <td>4.049281</td>\n",
       "      <td>3.587761</td>\n",
       "      <td>16.396674</td>\n",
       "      <td>4.048915</td>\n",
       "      <td>3.587612</td>\n",
       "      <td>16.393713</td>\n",
       "    </tr>\n",
       "    <tr>\n",
       "      <th>6</th>\n",
       "      <td></td>\n",
       "      <td>2019-11-06 22:23:00</td>\n",
       "      <td>5 min 21.203 sec</td>\n",
       "      <td>7.0</td>\n",
       "      <td>3.979592</td>\n",
       "      <td>3.527067</td>\n",
       "      <td>15.837149</td>\n",
       "      <td>3.979240</td>\n",
       "      <td>3.526934</td>\n",
       "      <td>15.834347</td>\n",
       "    </tr>\n",
       "    <tr>\n",
       "      <th>7</th>\n",
       "      <td></td>\n",
       "      <td>2019-11-06 22:23:44</td>\n",
       "      <td>6 min  5.163 sec</td>\n",
       "      <td>8.0</td>\n",
       "      <td>3.945421</td>\n",
       "      <td>3.497152</td>\n",
       "      <td>15.566350</td>\n",
       "      <td>3.945074</td>\n",
       "      <td>3.497025</td>\n",
       "      <td>15.563607</td>\n",
       "    </tr>\n",
       "    <tr>\n",
       "      <th>8</th>\n",
       "      <td></td>\n",
       "      <td>2019-11-06 22:25:04</td>\n",
       "      <td>7 min 24.511 sec</td>\n",
       "      <td>10.0</td>\n",
       "      <td>3.878022</td>\n",
       "      <td>3.438286</td>\n",
       "      <td>15.039053</td>\n",
       "      <td>3.877686</td>\n",
       "      <td>3.438172</td>\n",
       "      <td>15.036449</td>\n",
       "    </tr>\n",
       "    <tr>\n",
       "      <th>9</th>\n",
       "      <td></td>\n",
       "      <td>2019-11-06 22:26:24</td>\n",
       "      <td>8 min 45.286 sec</td>\n",
       "      <td>12.0</td>\n",
       "      <td>3.812135</td>\n",
       "      <td>3.380639</td>\n",
       "      <td>14.532377</td>\n",
       "      <td>3.811812</td>\n",
       "      <td>3.380538</td>\n",
       "      <td>14.529911</td>\n",
       "    </tr>\n",
       "    <tr>\n",
       "      <th>10</th>\n",
       "      <td></td>\n",
       "      <td>2019-11-06 22:27:44</td>\n",
       "      <td>10 min  4.647 sec</td>\n",
       "      <td>14.0</td>\n",
       "      <td>3.747749</td>\n",
       "      <td>3.324093</td>\n",
       "      <td>14.045620</td>\n",
       "      <td>3.747435</td>\n",
       "      <td>3.324008</td>\n",
       "      <td>14.043268</td>\n",
       "    </tr>\n",
       "    <tr>\n",
       "      <th>11</th>\n",
       "      <td></td>\n",
       "      <td>2019-11-06 22:29:02</td>\n",
       "      <td>11 min 22.574 sec</td>\n",
       "      <td>16.0</td>\n",
       "      <td>3.684629</td>\n",
       "      <td>3.268556</td>\n",
       "      <td>13.576490</td>\n",
       "      <td>3.684329</td>\n",
       "      <td>3.268484</td>\n",
       "      <td>13.574277</td>\n",
       "    </tr>\n",
       "    <tr>\n",
       "      <th>12</th>\n",
       "      <td></td>\n",
       "      <td>2019-11-06 22:30:20</td>\n",
       "      <td>12 min 40.735 sec</td>\n",
       "      <td>18.0</td>\n",
       "      <td>3.622770</td>\n",
       "      <td>3.214012</td>\n",
       "      <td>13.124459</td>\n",
       "      <td>3.622489</td>\n",
       "      <td>3.213961</td>\n",
       "      <td>13.122423</td>\n",
       "    </tr>\n",
       "    <tr>\n",
       "      <th>13</th>\n",
       "      <td></td>\n",
       "      <td>2019-11-06 22:31:40</td>\n",
       "      <td>14 min  0.900 sec</td>\n",
       "      <td>20.0</td>\n",
       "      <td>3.562112</td>\n",
       "      <td>3.160820</td>\n",
       "      <td>12.688641</td>\n",
       "      <td>3.561845</td>\n",
       "      <td>3.160790</td>\n",
       "      <td>12.686742</td>\n",
       "    </tr>\n",
       "    <tr>\n",
       "      <th>14</th>\n",
       "      <td></td>\n",
       "      <td>2019-11-06 22:32:58</td>\n",
       "      <td>15 min 18.774 sec</td>\n",
       "      <td>22.0</td>\n",
       "      <td>3.502820</td>\n",
       "      <td>3.108792</td>\n",
       "      <td>12.269751</td>\n",
       "      <td>3.502568</td>\n",
       "      <td>3.108777</td>\n",
       "      <td>12.267980</td>\n",
       "    </tr>\n",
       "    <tr>\n",
       "      <th>15</th>\n",
       "      <td></td>\n",
       "      <td>2019-11-06 22:34:21</td>\n",
       "      <td>16 min 41.955 sec</td>\n",
       "      <td>24.0</td>\n",
       "      <td>3.444919</td>\n",
       "      <td>3.057822</td>\n",
       "      <td>11.867467</td>\n",
       "      <td>3.444686</td>\n",
       "      <td>3.057824</td>\n",
       "      <td>11.865861</td>\n",
       "    </tr>\n",
       "    <tr>\n",
       "      <th>16</th>\n",
       "      <td></td>\n",
       "      <td>2019-11-06 22:35:43</td>\n",
       "      <td>18 min  4.106 sec</td>\n",
       "      <td>26.0</td>\n",
       "      <td>3.388359</td>\n",
       "      <td>3.007934</td>\n",
       "      <td>11.480975</td>\n",
       "      <td>3.388146</td>\n",
       "      <td>3.007952</td>\n",
       "      <td>11.479534</td>\n",
       "    </tr>\n",
       "    <tr>\n",
       "      <th>17</th>\n",
       "      <td></td>\n",
       "      <td>2019-11-06 22:37:01</td>\n",
       "      <td>19 min 21.661 sec</td>\n",
       "      <td>28.0</td>\n",
       "      <td>3.333049</td>\n",
       "      <td>2.959086</td>\n",
       "      <td>11.109218</td>\n",
       "      <td>3.332856</td>\n",
       "      <td>2.959120</td>\n",
       "      <td>11.107927</td>\n",
       "    </tr>\n",
       "    <tr>\n",
       "      <th>18</th>\n",
       "      <td></td>\n",
       "      <td>2019-11-06 22:38:24</td>\n",
       "      <td>20 min 44.596 sec</td>\n",
       "      <td>30.0</td>\n",
       "      <td>3.279099</td>\n",
       "      <td>2.911296</td>\n",
       "      <td>10.752489</td>\n",
       "      <td>3.278922</td>\n",
       "      <td>2.911343</td>\n",
       "      <td>10.751326</td>\n",
       "    </tr>\n",
       "    <tr>\n",
       "      <th>19</th>\n",
       "      <td></td>\n",
       "      <td>2019-11-06 22:39:42</td>\n",
       "      <td>22 min  3.293 sec</td>\n",
       "      <td>32.0</td>\n",
       "      <td>3.226330</td>\n",
       "      <td>2.864444</td>\n",
       "      <td>10.409202</td>\n",
       "      <td>3.226169</td>\n",
       "      <td>2.864505</td>\n",
       "      <td>10.408167</td>\n",
       "    </tr>\n",
       "  </tbody>\n",
       "</table>\n",
       "</div>"
      ],
      "text/plain": [
       "                timestamp           duration  number_of_trees  training_rmse  \\\n",
       "0     2019-11-06 22:17:39          0.408 sec              0.0       4.230700   \n",
       "1     2019-11-06 22:18:52   1 min 13.415 sec              1.0       4.193614   \n",
       "2     2019-11-06 22:19:35   1 min 55.776 sec              2.0       4.156881   \n",
       "3     2019-11-06 22:20:16   2 min 36.794 sec              3.0       4.120610   \n",
       "4     2019-11-06 22:21:00   3 min 20.866 sec              4.0       4.084743   \n",
       "5     2019-11-06 22:21:42   4 min  2.975 sec              5.0       4.049281   \n",
       "6     2019-11-06 22:23:00   5 min 21.203 sec              7.0       3.979592   \n",
       "7     2019-11-06 22:23:44   6 min  5.163 sec              8.0       3.945421   \n",
       "8     2019-11-06 22:25:04   7 min 24.511 sec             10.0       3.878022   \n",
       "9     2019-11-06 22:26:24   8 min 45.286 sec             12.0       3.812135   \n",
       "10    2019-11-06 22:27:44  10 min  4.647 sec             14.0       3.747749   \n",
       "11    2019-11-06 22:29:02  11 min 22.574 sec             16.0       3.684629   \n",
       "12    2019-11-06 22:30:20  12 min 40.735 sec             18.0       3.622770   \n",
       "13    2019-11-06 22:31:40  14 min  0.900 sec             20.0       3.562112   \n",
       "14    2019-11-06 22:32:58  15 min 18.774 sec             22.0       3.502820   \n",
       "15    2019-11-06 22:34:21  16 min 41.955 sec             24.0       3.444919   \n",
       "16    2019-11-06 22:35:43  18 min  4.106 sec             26.0       3.388359   \n",
       "17    2019-11-06 22:37:01  19 min 21.661 sec             28.0       3.333049   \n",
       "18    2019-11-06 22:38:24  20 min 44.596 sec             30.0       3.279099   \n",
       "19    2019-11-06 22:39:42  22 min  3.293 sec             32.0       3.226330   \n",
       "\n",
       "    training_mae  training_deviance  validation_rmse  validation_mae  \\\n",
       "0       3.745262          17.898820         4.230314        3.745079   \n",
       "1       3.713090          17.586396         4.193231        3.712914   \n",
       "2       3.681312          17.279660         4.156504        3.681143   \n",
       "3       3.649801          16.979427         4.120238        3.649640   \n",
       "4       3.618614          16.685126         4.084376        3.618460   \n",
       "5       3.587761          16.396674         4.048915        3.587612   \n",
       "6       3.527067          15.837149         3.979240        3.526934   \n",
       "7       3.497152          15.566350         3.945074        3.497025   \n",
       "8       3.438286          15.039053         3.877686        3.438172   \n",
       "9       3.380639          14.532377         3.811812        3.380538   \n",
       "10      3.324093          14.045620         3.747435        3.324008   \n",
       "11      3.268556          13.576490         3.684329        3.268484   \n",
       "12      3.214012          13.124459         3.622489        3.213961   \n",
       "13      3.160820          12.688641         3.561845        3.160790   \n",
       "14      3.108792          12.269751         3.502568        3.108777   \n",
       "15      3.057822          11.867467         3.444686        3.057824   \n",
       "16      3.007934          11.480975         3.388146        3.007952   \n",
       "17      2.959086          11.109218         3.332856        2.959120   \n",
       "18      2.911296          10.752489         3.278922        2.911343   \n",
       "19      2.864444          10.409202         3.226169        2.864505   \n",
       "\n",
       "    validation_deviance  \n",
       "0             17.895554  \n",
       "1             17.583182  \n",
       "2             17.276529  \n",
       "3             16.976357  \n",
       "4             16.682123  \n",
       "5             16.393713  \n",
       "6             15.834347  \n",
       "7             15.563607  \n",
       "8             15.036449  \n",
       "9             14.529911  \n",
       "10            14.043268  \n",
       "11            13.574277  \n",
       "12            13.122423  \n",
       "13            12.686742  \n",
       "14            12.267980  \n",
       "15            11.865861  \n",
       "16            11.479534  \n",
       "17            11.107927  \n",
       "18            10.751326  \n",
       "19            10.408167  "
      ]
     },
     "metadata": {},
     "output_type": "display_data"
    },
    {
     "name": "stdout",
     "output_type": "stream",
     "text": [
      "\n",
      "See the whole table with table.as_data_frame()\n",
      "\n",
      "Variable Importances: "
     ]
    },
    {
     "data": {
      "text/html": [
       "<div>\n",
       "<style scoped>\n",
       "    .dataframe tbody tr th:only-of-type {\n",
       "        vertical-align: middle;\n",
       "    }\n",
       "\n",
       "    .dataframe tbody tr th {\n",
       "        vertical-align: top;\n",
       "    }\n",
       "\n",
       "    .dataframe thead th {\n",
       "        text-align: right;\n",
       "    }\n",
       "</style>\n",
       "<table border=\"1\" class=\"dataframe\">\n",
       "  <thead>\n",
       "    <tr style=\"text-align: right;\">\n",
       "      <th></th>\n",
       "      <th>variable</th>\n",
       "      <th>relative_importance</th>\n",
       "      <th>scaled_importance</th>\n",
       "      <th>percentage</th>\n",
       "    </tr>\n",
       "  </thead>\n",
       "  <tbody>\n",
       "    <tr>\n",
       "      <th>0</th>\n",
       "      <td>square_feet</td>\n",
       "      <td>776815104.0</td>\n",
       "      <td>1.000000</td>\n",
       "      <td>0.348430</td>\n",
       "    </tr>\n",
       "    <tr>\n",
       "      <th>1</th>\n",
       "      <td>building_id</td>\n",
       "      <td>222316656.0</td>\n",
       "      <td>0.286190</td>\n",
       "      <td>0.099717</td>\n",
       "    </tr>\n",
       "    <tr>\n",
       "      <th>2</th>\n",
       "      <td>air_temperature</td>\n",
       "      <td>201789744.0</td>\n",
       "      <td>0.259765</td>\n",
       "      <td>0.090510</td>\n",
       "    </tr>\n",
       "    <tr>\n",
       "      <th>3</th>\n",
       "      <td>month</td>\n",
       "      <td>132633552.0</td>\n",
       "      <td>0.170740</td>\n",
       "      <td>0.059491</td>\n",
       "    </tr>\n",
       "    <tr>\n",
       "      <th>4</th>\n",
       "      <td>meter.0</td>\n",
       "      <td>91020200.0</td>\n",
       "      <td>0.117171</td>\n",
       "      <td>0.040826</td>\n",
       "    </tr>\n",
       "    <tr>\n",
       "      <th>5</th>\n",
       "      <td>meter.1</td>\n",
       "      <td>84759280.0</td>\n",
       "      <td>0.109111</td>\n",
       "      <td>0.038018</td>\n",
       "    </tr>\n",
       "    <tr>\n",
       "      <th>6</th>\n",
       "      <td>year_built</td>\n",
       "      <td>79848200.0</td>\n",
       "      <td>0.102789</td>\n",
       "      <td>0.035815</td>\n",
       "    </tr>\n",
       "    <tr>\n",
       "      <th>7</th>\n",
       "      <td>site_id.0</td>\n",
       "      <td>77062768.0</td>\n",
       "      <td>0.099203</td>\n",
       "      <td>0.034565</td>\n",
       "    </tr>\n",
       "    <tr>\n",
       "      <th>8</th>\n",
       "      <td>meter.3</td>\n",
       "      <td>67047596.0</td>\n",
       "      <td>0.086311</td>\n",
       "      <td>0.030073</td>\n",
       "    </tr>\n",
       "    <tr>\n",
       "      <th>9</th>\n",
       "      <td>meter.2</td>\n",
       "      <td>50711436.0</td>\n",
       "      <td>0.065281</td>\n",
       "      <td>0.022746</td>\n",
       "    </tr>\n",
       "    <tr>\n",
       "      <th>10</th>\n",
       "      <td>site_id.14</td>\n",
       "      <td>49160916.0</td>\n",
       "      <td>0.063285</td>\n",
       "      <td>0.022050</td>\n",
       "    </tr>\n",
       "    <tr>\n",
       "      <th>11</th>\n",
       "      <td>dew_temperature</td>\n",
       "      <td>46553148.0</td>\n",
       "      <td>0.059928</td>\n",
       "      <td>0.020881</td>\n",
       "    </tr>\n",
       "    <tr>\n",
       "      <th>12</th>\n",
       "      <td>primary_use.Education</td>\n",
       "      <td>32835286.0</td>\n",
       "      <td>0.042269</td>\n",
       "      <td>0.014728</td>\n",
       "    </tr>\n",
       "    <tr>\n",
       "      <th>13</th>\n",
       "      <td>floor_count</td>\n",
       "      <td>31982470.0</td>\n",
       "      <td>0.041171</td>\n",
       "      <td>0.014345</td>\n",
       "    </tr>\n",
       "    <tr>\n",
       "      <th>14</th>\n",
       "      <td>site_id.5</td>\n",
       "      <td>27022068.0</td>\n",
       "      <td>0.034786</td>\n",
       "      <td>0.012120</td>\n",
       "    </tr>\n",
       "    <tr>\n",
       "      <th>15</th>\n",
       "      <td>hour</td>\n",
       "      <td>24710176.0</td>\n",
       "      <td>0.031810</td>\n",
       "      <td>0.011083</td>\n",
       "    </tr>\n",
       "    <tr>\n",
       "      <th>16</th>\n",
       "      <td>site_id.13</td>\n",
       "      <td>21574908.0</td>\n",
       "      <td>0.027774</td>\n",
       "      <td>0.009677</td>\n",
       "    </tr>\n",
       "    <tr>\n",
       "      <th>17</th>\n",
       "      <td>primary_use.Entertainment/publicassembly</td>\n",
       "      <td>19107486.0</td>\n",
       "      <td>0.024597</td>\n",
       "      <td>0.008570</td>\n",
       "    </tr>\n",
       "    <tr>\n",
       "      <th>18</th>\n",
       "      <td>site_id.9</td>\n",
       "      <td>19066510.0</td>\n",
       "      <td>0.024544</td>\n",
       "      <td>0.008552</td>\n",
       "    </tr>\n",
       "    <tr>\n",
       "      <th>19</th>\n",
       "      <td>primary_use.Office</td>\n",
       "      <td>18054912.0</td>\n",
       "      <td>0.023242</td>\n",
       "      <td>0.008098</td>\n",
       "    </tr>\n",
       "  </tbody>\n",
       "</table>\n",
       "</div>"
      ],
      "text/plain": [
       "                                    variable  relative_importance  \\\n",
       "0                                square_feet          776815104.0   \n",
       "1                                building_id          222316656.0   \n",
       "2                            air_temperature          201789744.0   \n",
       "3                                      month          132633552.0   \n",
       "4                                    meter.0           91020200.0   \n",
       "5                                    meter.1           84759280.0   \n",
       "6                                 year_built           79848200.0   \n",
       "7                                  site_id.0           77062768.0   \n",
       "8                                    meter.3           67047596.0   \n",
       "9                                    meter.2           50711436.0   \n",
       "10                                site_id.14           49160916.0   \n",
       "11                           dew_temperature           46553148.0   \n",
       "12                     primary_use.Education           32835286.0   \n",
       "13                               floor_count           31982470.0   \n",
       "14                                 site_id.5           27022068.0   \n",
       "15                                      hour           24710176.0   \n",
       "16                                site_id.13           21574908.0   \n",
       "17  primary_use.Entertainment/publicassembly           19107486.0   \n",
       "18                                 site_id.9           19066510.0   \n",
       "19                        primary_use.Office           18054912.0   \n",
       "\n",
       "    scaled_importance  percentage  \n",
       "0            1.000000    0.348430  \n",
       "1            0.286190    0.099717  \n",
       "2            0.259765    0.090510  \n",
       "3            0.170740    0.059491  \n",
       "4            0.117171    0.040826  \n",
       "5            0.109111    0.038018  \n",
       "6            0.102789    0.035815  \n",
       "7            0.099203    0.034565  \n",
       "8            0.086311    0.030073  \n",
       "9            0.065281    0.022746  \n",
       "10           0.063285    0.022050  \n",
       "11           0.059928    0.020881  \n",
       "12           0.042269    0.014728  \n",
       "13           0.041171    0.014345  \n",
       "14           0.034786    0.012120  \n",
       "15           0.031810    0.011083  \n",
       "16           0.027774    0.009677  \n",
       "17           0.024597    0.008570  \n",
       "18           0.024544    0.008552  \n",
       "19           0.023242    0.008098  "
      ]
     },
     "metadata": {},
     "output_type": "display_data"
    },
    {
     "name": "stdout",
     "output_type": "stream",
     "text": [
      "\n",
      "See the whole table with table.as_data_frame()\n"
     ]
    },
    {
     "data": {
      "text/plain": []
     },
     "execution_count": 22,
     "metadata": {},
     "output_type": "execute_result"
    }
   ],
   "source": [
    "model"
   ]
  },
  {
   "cell_type": "markdown",
   "metadata": {},
   "source": [
    "# Feature Importance"
   ]
  },
  {
   "cell_type": "code",
   "execution_count": 32,
   "metadata": {},
   "outputs": [
    {
     "data": {
      "image/png": "[encoded data removed]",
      "text/plain": [
       "<Figure size 1008x720 with 1 Axes>"
      ]
     },
     "metadata": {
      "needs_background": "light"
     },
     "output_type": "display_data"
    }
   ],
   "source": [
    "variables = model._model_json['output']['variable_importances']['variable']\n",
    "scaled_importance = model._model_json['output']['variable_importances']['scaled_importance']\n",
    "\n",
    "model.varimp_plot()"
   ]
  },
  {
   "cell_type": "code",
   "execution_count": 24,
   "metadata": {},
   "outputs": [
    {
     "data": {
      "text/plain": [
       "['square_feet',\n",
       " 'building_id',\n",
       " 'air_temperature',\n",
       " 'month',\n",
       " 'meter.0',\n",
       " 'meter.1',\n",
       " 'year_built',\n",
       " 'site_id.0',\n",
       " 'meter.3',\n",
       " 'meter.2',\n",
       " 'site_id.14',\n",
       " 'dew_temperature',\n",
       " 'primary_use.Education',\n",
       " 'floor_count',\n",
       " 'site_id.5']"
      ]
     },
     "execution_count": 24,
     "metadata": {},
     "output_type": "execute_result"
    }
   ],
   "source": [
    "variables[0:15]"
   ]
  },
  {
   "cell_type": "markdown",
   "metadata": {},
   "source": [
    "# Performance"
   ]
  },
  {
   "cell_type": "code",
   "execution_count": 25,
   "metadata": {},
   "outputs": [
    {
     "name": "stdout",
     "output_type": "stream",
     "text": [
      "17.59766697883606  seconds\n"
     ]
    }
   ],
   "source": [
    "tic = time.time()\n",
    "test_perf = model.model_performance(test)\n",
    "toc = time.time()\n",
    "print(toc-tic,\" seconds\")"
   ]
  },
  {
   "cell_type": "code",
   "execution_count": 26,
   "metadata": {},
   "outputs": [
    {
     "name": "stdout",
     "output_type": "stream",
     "text": [
      "\n",
      "ModelMetricsRegression: xgboost\n",
      "** Reported on test data. **\n",
      "\n",
      "MSE: 1.5596828644768785\n",
      "RMSE: 1.2488726374121897\n",
      "MAE: 0.9148178653664474\n",
      "RMSLE: 0.3977648751753785\n",
      "Mean Residual Deviance: 1.5596828644768785\n"
     ]
    },
    {
     "data": {
      "text/plain": []
     },
     "execution_count": 26,
     "metadata": {},
     "output_type": "execute_result"
    }
   ],
   "source": [
    "test_perf"
   ]
  },
  {
   "cell_type": "markdown",
   "metadata": {},
   "source": [
    "# Prediction"
   ]
  },
  {
   "cell_type": "code",
   "execution_count": 27,
   "metadata": {},
   "outputs": [
    {
     "name": "stdout",
     "output_type": "stream",
     "text": [
      "xgboost prediction progress: |████████████████████████████████████████████| 100%\n",
      "20.26500630378723  seconds\n"
     ]
    }
   ],
   "source": [
    "tic = time.time()\n",
    "predictions = model.predict(test_data = test)\n",
    "toc = time.time()\n",
    "print(toc-tic,\" seconds\")"
   ]
  },
  {
   "cell_type": "code",
   "execution_count": 28,
   "metadata": {},
   "outputs": [],
   "source": [
    "predictions['predict'] = predictions['predict'].expm1()"
   ]
  },
  {
   "cell_type": "code",
   "execution_count": 29,
   "metadata": {},
   "outputs": [
    {
     "data": {
      "text/html": [
       "<table>\n",
       "<thead>\n",
       "<tr><th style=\"text-align: right;\">  predict</th></tr>\n",
       "</thead>\n",
       "<tbody>\n",
       "<tr><td style=\"text-align: right;\">307.138  </td></tr>\n",
       "<tr><td style=\"text-align: right;\"> 24.9603 </td></tr>\n",
       "<tr><td style=\"text-align: right;\"> 12.5483 </td></tr>\n",
       "<tr><td style=\"text-align: right;\">105.514  </td></tr>\n",
       "<tr><td style=\"text-align: right;\">193.013  </td></tr>\n",
       "<tr><td style=\"text-align: right;\">301.576  </td></tr>\n",
       "<tr><td style=\"text-align: right;\">542.858  </td></tr>\n",
       "<tr><td style=\"text-align: right;\">118.437  </td></tr>\n",
       "<tr><td style=\"text-align: right;\">  9.55491</td></tr>\n",
       "<tr><td style=\"text-align: right;\"> 52.2112 </td></tr>\n",
       "</tbody>\n",
       "</table>"
      ]
     },
     "metadata": {},
     "output_type": "display_data"
    },
    {
     "data": {
      "text/plain": []
     },
     "execution_count": 29,
     "metadata": {},
     "output_type": "execute_result"
    }
   ],
   "source": [
    "predictions.tail()"
   ]
  },
  {
   "cell_type": "code",
   "execution_count": 30,
   "metadata": {},
   "outputs": [],
   "source": [
    "notebook_toc = time.time()"
   ]
  },
  {
   "cell_type": "code",
   "execution_count": 31,
   "metadata": {},
   "outputs": [
    {
     "name": "stdout",
     "output_type": "stream",
     "text": [
      "notebook completed in  10743.415010929108  seconds\n"
     ]
    }
   ],
   "source": [
    "print(\"notebook completed in \",notebook_toc - notebook_tic,\" seconds\")"
   ]
  },
  {
   "cell_type": "code",
   "execution_count": null,
   "metadata": {},
   "outputs": [],
   "source": [
    "    "
   ]
  }
 ],
 "metadata": {
  "kernelspec": {
   "display_name": "Python 3",
   "language": "python",
   "name": "python3"
  },
  "language_info": {
   "codemirror_mode": {
    "name": "ipython",
    "version": 3
   },
   "file_extension": ".py",
   "mimetype": "text/x-python",
   "name": "python",
   "nbconvert_exporter": "python",
   "pygments_lexer": "ipython3",
   "version": "3.6.3"
  }
 },
 "nbformat": 4,
 "nbformat_minor": 2
}
